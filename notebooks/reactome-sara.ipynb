{
 "cells": [
  {
   "cell_type": "code",
   "execution_count": 18,
   "id": "2e90e7a7",
   "metadata": {},
   "outputs": [],
   "source": [
    "import pickle\n",
    "import os\n",
    "from joblib import load\n",
    "import pandas as pd\n",
    "import scanpy as sc"
   ]
  },
  {
   "cell_type": "code",
   "execution_count": 19,
   "id": "aef8312a",
   "metadata": {},
   "outputs": [
    {
     "name": "stdout",
     "output_type": "stream",
     "text": [
      "   seed metric  split      score          model\n",
      "0     0   loss  train  46.273651  ivae_reactome\n",
      "1     0    mse  train   0.003067  ivae_reactome\n",
      "2     0   loss    val  46.229282  ivae_reactome\n",
      "3     0    mse    val   0.003072  ivae_reactome\n",
      "4     0   loss   test  46.187099  ivae_reactome\n",
      "5     0    mse   test   0.003067  ivae_reactome\n"
     ]
    }
   ],
   "source": [
    "base_dir = os.path.abspath(\"..\")  # Subir un nivel desde notebooks/\n",
    "path_encodings_layer_01 = os.path.join(base_dir, \"path\", \"ivae_reactome\", \"seed_0\", \"encodings_layer-01_seed-00.pkl\")\n",
    "path_encodings_layer_04 = os.path.join(base_dir, \"path\", \"ivae_reactome\", \"seed_0\", \"encodings_layer-04_seed-00.pkl\")\n",
    "path_metrics_seed = os.path.join(base_dir, \"path\", \"ivae_reactome\", \"seed_0\", \"metrics-seed-00.pkl\")\n",
    "\n",
    "\n",
    "x_train_encoded_01 = load(path_encodings_layer_01)\n",
    "x_train_encoded_04 = load(path_encodings_layer_04)\n",
    "metrics_seed = load(path_metrics_seed)\n",
    "    \n",
    "print(metrics_seed)  # Ver qué contiene"
   ]
  },
  {
   "cell_type": "code",
   "execution_count": 20,
   "id": "d95dedfe",
   "metadata": {},
   "outputs": [],
   "source": [
    "x_train_encoded_01 = pd.DataFrame(x_train_encoded_01)\n",
    "x_train_encoded_04 = pd.DataFrame(x_train_encoded_04)"
   ]
  },
  {
   "cell_type": "code",
   "execution_count": 21,
   "id": "8e3d6dc6",
   "metadata": {},
   "outputs": [
    {
     "name": "stderr",
     "output_type": "stream",
     "text": [
      "/home/sfernandez/.local/lib/python3.10/site-packages/anndata/utils.py:307: UserWarning: X converted to numpy array with dtype object\n",
      "  warnings.warn(f\"{name} converted to numpy array with dtype {arr.dtype}\")\n"
     ]
    }
   ],
   "source": [
    "# Crear objeto AnnData para análisis\n",
    "adata = sc.AnnData(X=x_train_encoded_04)"
   ]
  },
  {
   "cell_type": "code",
   "execution_count": 23,
   "id": "bc393876",
   "metadata": {},
   "outputs": [
    {
     "ename": "AttributeError",
     "evalue": "'DataFrame' object has no attribute 'layers'",
     "output_type": "error",
     "traceback": [
      "\u001b[0;31m---------------------------------------------------------------------------\u001b[0m",
      "\u001b[0;31mAttributeError\u001b[0m                            Traceback (most recent call last)",
      "\u001b[0;32m/tmp/ipykernel_1508194/3066853608.py\u001b[0m in \u001b[0;36m?\u001b[0;34m()\u001b[0m\n\u001b[0;32m----> 1\u001b[0;31m \u001b[0mlayer_outputs\u001b[0m \u001b[0;34m=\u001b[0m \u001b[0;34m[\u001b[0m\u001b[0mlayer\u001b[0m\u001b[0;34m.\u001b[0m\u001b[0moutput\u001b[0m \u001b[0;32mfor\u001b[0m \u001b[0mlayer\u001b[0m \u001b[0;32min\u001b[0m \u001b[0mx_train_encoded_04\u001b[0m\u001b[0;34m.\u001b[0m\u001b[0mlayers\u001b[0m\u001b[0;34m]\u001b[0m\u001b[0;34m\u001b[0m\u001b[0;34m\u001b[0m\u001b[0m\n\u001b[0m\u001b[1;32m      2\u001b[0m \u001b[0mactivation_model\u001b[0m \u001b[0;34m=\u001b[0m \u001b[0mModel\u001b[0m\u001b[0;34m(\u001b[0m\u001b[0minputs\u001b[0m\u001b[0;34m=\u001b[0m\u001b[0mx_train_encoded_04\u001b[0m\u001b[0;34m.\u001b[0m\u001b[0minput\u001b[0m\u001b[0;34m,\u001b[0m \u001b[0moutputs\u001b[0m\u001b[0;34m=\u001b[0m\u001b[0mlayer_outputs\u001b[0m\u001b[0;34m)\u001b[0m\u001b[0;34m\u001b[0m\u001b[0;34m\u001b[0m\u001b[0m\n",
      "\u001b[0;32m~/.local/lib/python3.10/site-packages/pandas/core/generic.py\u001b[0m in \u001b[0;36m?\u001b[0;34m(self, name)\u001b[0m\n\u001b[1;32m   6295\u001b[0m             \u001b[0;32mand\u001b[0m \u001b[0mname\u001b[0m \u001b[0;32mnot\u001b[0m \u001b[0;32min\u001b[0m \u001b[0mself\u001b[0m\u001b[0;34m.\u001b[0m\u001b[0m_accessors\u001b[0m\u001b[0;34m\u001b[0m\u001b[0;34m\u001b[0m\u001b[0m\n\u001b[1;32m   6296\u001b[0m             \u001b[0;32mand\u001b[0m \u001b[0mself\u001b[0m\u001b[0;34m.\u001b[0m\u001b[0m_info_axis\u001b[0m\u001b[0;34m.\u001b[0m\u001b[0m_can_hold_identifiers_and_holds_name\u001b[0m\u001b[0;34m(\u001b[0m\u001b[0mname\u001b[0m\u001b[0;34m)\u001b[0m\u001b[0;34m\u001b[0m\u001b[0;34m\u001b[0m\u001b[0m\n\u001b[1;32m   6297\u001b[0m         ):\n\u001b[1;32m   6298\u001b[0m             \u001b[0;32mreturn\u001b[0m \u001b[0mself\u001b[0m\u001b[0;34m[\u001b[0m\u001b[0mname\u001b[0m\u001b[0;34m]\u001b[0m\u001b[0;34m\u001b[0m\u001b[0;34m\u001b[0m\u001b[0m\n\u001b[0;32m-> 6299\u001b[0;31m         \u001b[0;32mreturn\u001b[0m \u001b[0mobject\u001b[0m\u001b[0;34m.\u001b[0m\u001b[0m__getattribute__\u001b[0m\u001b[0;34m(\u001b[0m\u001b[0mself\u001b[0m\u001b[0;34m,\u001b[0m \u001b[0mname\u001b[0m\u001b[0;34m)\u001b[0m\u001b[0;34m\u001b[0m\u001b[0;34m\u001b[0m\u001b[0m\n\u001b[0m",
      "\u001b[0;31mAttributeError\u001b[0m: 'DataFrame' object has no attribute 'layers'"
     ]
    }
   ],
   "source": [
    "layer_outputs = [layer.output for layer in x_train_encoded_04.layers]\n",
    "activation_model = Model(inputs=x_train_encoded_04.input, outputs=layer_outputs)\n"
   ]
  },
  {
   "cell_type": "code",
   "execution_count": 16,
   "id": "3d89abd2",
   "metadata": {},
   "outputs": [],
   "source": [
    "adata = sc.AnnData(X=x_train_encoded_04.values)  # Convertir a numpy array\n",
    "\n",
    "# Aplicar clustering y reducción de dimensionalidad\n",
    "sc.pp.neighbors(adata, use_rep=\"X\", random_state=0)\n",
    "sc.tl.leiden(adata, random_state=0)\n",
    "sc.tl.umap(adata, random_state=0)"
   ]
  },
  {
   "cell_type": "code",
   "execution_count": 17,
   "id": "df1f6bef",
   "metadata": {},
   "outputs": [
    {
     "name": "stdout",
     "output_type": "stream",
     "text": [
      "  stimulated_names  stimulated_scores  stimulated_pvals  stimulated_pvals_adj  \\\n",
      "0              101           8.744868      2.232767e-18          6.013585e-16   \n",
      "1              382           7.893230      2.944630e-15          2.379261e-13   \n",
      "2               68           7.475380      7.698071e-14          4.784647e-12   \n",
      "3              223           7.412989      1.234845e-13          6.651699e-12   \n",
      "4              565           7.360659      1.830043e-13          9.241718e-12   \n",
      "5              736           7.317310      2.529912e-13          1.202452e-11   \n",
      "6              671           7.211325      5.541020e-13          2.238572e-11   \n",
      "7              436           7.171064      7.441691e-13          2.863279e-11   \n",
      "8              473           7.027605      2.101089e-12          7.716728e-11   \n",
      "9              618           6.941428      3.881552e-12          1.363606e-10   \n",
      "\n",
      "   stimulated_logfoldchanges  \n",
      "0                  -0.134476  \n",
      "1                  -0.532051  \n",
      "2                  -0.332251  \n",
      "3                  -0.891080  \n",
      "4                  -0.587054  \n",
      "5                  -0.337603  \n",
      "6                   0.437895  \n",
      "7                  -0.274451  \n",
      "8                  -0.190062  \n",
      "9                  -0.470767  \n"
     ]
    },
    {
     "name": "stderr",
     "output_type": "stream",
     "text": [
      "/home/sfernandez/.local/lib/python3.10/site-packages/scanpy/tools/_rank_genes_groups.py:455: RuntimeWarning: invalid value encountered in log2\n",
      "  self.stats[group_name, \"logfoldchanges\"] = np.log2(\n"
     ]
    }
   ],
   "source": [
    "import scanpy as sc\n",
    "import pandas as pd\n",
    "\n",
    "# Definir manualmente las condiciones si aún no lo has hecho\n",
    "adata.obs[\"condition\"] = [\"control\" if i < len(adata) // 2 else \"stimulated\" for i in range(len(adata))]\n",
    "\n",
    "# Ranking de entidades o rutas diferenciales usando el test Wilcoxon\n",
    "method = \"wilcoxon\"\n",
    "sc.tl.rank_genes_groups(\n",
    "    adata, groupby=\"condition\", reference=\"control\", key_added=method, method=method\n",
    ")\n",
    "\n",
    "# Extraer resultados de Wilcoxon\n",
    "result = adata.uns[method]\n",
    "\n",
    "# Confirmar que hay grupos válidos en el resultado\n",
    "groups = result[\"names\"].dtype.names\n",
    "if not groups:\n",
    "    print(\"No se encontraron resultados para los grupos especificados.\")\n",
    "else:\n",
    "    # Crear DataFrame con los resultados deseados\n",
    "    dacs = pd.DataFrame(\n",
    "        {\n",
    "            group + \"_\" + key: result[key][group]\n",
    "            for group in groups\n",
    "            for key in [\"names\", \"scores\", \"pvals\", \"pvals_adj\", \"logfoldchanges\"]\n",
    "        }\n",
    "    )\n",
    "\n",
    "    # Mostrar las primeras 10 filas\n",
    "    print(dacs.head(10))\n",
    "\n"
   ]
  },
  {
   "cell_type": "code",
   "execution_count": null,
   "id": "96c1ce8f",
   "metadata": {},
   "outputs": [],
   "source": []
  }
 ],
 "metadata": {
  "kernelspec": {
   "display_name": "Python 3 (ipykernel)",
   "language": "python",
   "name": "python3"
  },
  "language_info": {
   "codemirror_mode": {
    "name": "ipython",
    "version": 3
   },
   "file_extension": ".py",
   "mimetype": "text/x-python",
   "name": "python",
   "nbconvert_exporter": "python",
   "pygments_lexer": "ipython3",
   "version": "3.10.15"
  }
 },
 "nbformat": 4,
 "nbformat_minor": 5
}
