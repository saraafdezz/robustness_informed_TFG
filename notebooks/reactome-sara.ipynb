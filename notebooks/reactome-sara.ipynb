{
 "cells": [
  {
   "cell_type": "code",
   "execution_count": 10,
   "id": "81b8ce23",
   "metadata": {},
   "outputs": [],
   "source": [
    "import pickle\n",
    "import os\n",
    "from joblib import load\n",
    "import pandas as pd"
   ]
  },
  {
   "cell_type": "code",
   "execution_count": 24,
   "id": "8baefc1f",
   "metadata": {},
   "outputs": [
    {
     "name": "stdout",
     "output_type": "stream",
     "text": [
      "   seed metric  split      score          model\n",
      "0     0   loss  train  46.273651  ivae_reactome\n",
      "1     0    mse  train   0.003067  ivae_reactome\n",
      "2     0   loss    val  46.229282  ivae_reactome\n",
      "3     0    mse    val   0.003072  ivae_reactome\n",
      "4     0   loss   test  46.187099  ivae_reactome\n",
      "5     0    mse   test   0.003067  ivae_reactome\n"
     ]
    }
   ],
   "source": [
    "base_dir = os.path.abspath(\"..\")  # Subir un nivel desde notebooks/\n",
    "path_encodings_layer_01 = os.path.join(base_dir, \"path\", \"ivae_reactome\", \"seed_0\", \"encodings_layer-01_seed-00.pkl\")\n",
    "path_encodings_layer_04 = os.path.join(base_dir, \"path\", \"ivae_reactome\", \"seed_0\", \"encodings_layer-04_seed-00.pkl\")\n",
    "path_metrics_seed = os.path.join(base_dir, \"path\", \"ivae_reactome\", \"seed_0\", \"metrics-seed-00.pkl\")\n",
    "\n",
    "\n",
    "x_train_encoded_01 = load(path_encodings_layer_01)\n",
    "x_train_encoded_04 = load(path_encodings_layer_04)\n",
    "metrics_seed = load(path_metrics_seed)\n",
    "    \n",
    "print(metrics_seed)  # Ver qué contiene"
   ]
  },
  {
   "cell_type": "code",
   "execution_count": 25,
   "id": "5e9047e7",
   "metadata": {},
   "outputs": [],
   "source": [
    "x_train_encoded_01 = pd.DataFrame(x_train_encoded_01)\n",
    "x_train_encoded_04 = pd.DataFrame(x_train_encoded_04)"
   ]
  },
  {
   "cell_type": "code",
   "execution_count": 26,
   "id": "6501a26e",
   "metadata": {},
   "outputs": [
    {
     "name": "stderr",
     "output_type": "stream",
     "text": [
      "/home/sfernandez/.local/lib/python3.10/site-packages/anndata/utils.py:307: UserWarning: X converted to numpy array with dtype object\n",
      "  warnings.warn(f\"{name} converted to numpy array with dtype {arr.dtype}\")\n"
     ]
    }
   ],
   "source": [
    "# Crear objeto AnnData para análisis\n",
    "adata = sc.AnnData(X=x_train_encoded_01)"
   ]
  },
  {
   "cell_type": "code",
   "execution_count": 29,
   "id": "71ad1ba5",
   "metadata": {},
   "outputs": [
    {
     "name": "stdout",
     "output_type": "stream",
     "text": [
      "REACTOME_2_LTR_CIRCLE_FORMATION                                      float32\n",
      "REACTOME_ABACAVIR_METABOLISM                                         float32\n",
      "REACTOME_ABACAVIR_TRANSMEMBRANE_TRANSPORT                            float32\n",
      "REACTOME_ABACAVIR_TRANSPORT_AND_METABOLISM                           float32\n",
      "REACTOME_ABC_FAMILY_PROTEINS_MEDIATED_TRANSPORT                      float32\n",
      "                                                                      ...   \n",
      "REACTOME_ZBP1_DAI_MEDIATED_INDUCTION_OF_TYPE_I_IFNS                  float32\n",
      "REACTOME_ZINC_EFFLUX_AND_COMPARTMENTALIZATION_BY_THE_SLC30_FAMILY    float32\n",
      "REACTOME_ZINC_INFLUX_INTO_CELLS_BY_THE_SLC39_GENE_FAMILY             float32\n",
      "REACTOME_ZINC_TRANSPORTERS                                           float32\n",
      "seed                                                                   int64\n",
      "Length: 1616, dtype: object\n"
     ]
    }
   ],
   "source": [
    "# Elimina columnas no numéricas si existen\n",
    "x_train_encoded_01 = x_train_encoded_01.select_dtypes(include=[\"number\"])\n",
    "\n",
    "# Si hay valores que deberían ser números pero están como strings, intenta convertirlos\n",
    "x_train_encoded_01 = x_train_encoded_01.apply(pd.to_numeric, errors=\"coerce\")\n",
    "\n",
    "# Verifica que todo esté correcto antes de continuar\n",
    "print(x_train_encoded_01.dtypes)\n"
   ]
  },
  {
   "cell_type": "code",
   "execution_count": 31,
   "id": "86e65b96",
   "metadata": {},
   "outputs": [
    {
     "name": "stderr",
     "output_type": "stream",
     "text": [
      "/home/sfernandez/.local/lib/python3.10/site-packages/tqdm/auto.py:21: TqdmWarning: IProgress not found. Please update jupyter and ipywidgets. See https://ipywidgets.readthedocs.io/en/stable/user_install.html\n",
      "  from .autonotebook import tqdm as notebook_tqdm\n",
      "2025-02-06 10:12:57.846910: E external/local_xla/xla/stream_executor/cuda/cuda_fft.cc:477] Unable to register cuFFT factory: Attempting to register factory for plugin cuFFT when one has already been registered\n",
      "WARNING: All log messages before absl::InitializeLog() is called are written to STDERR\n",
      "E0000 00:00:1738836777.857259 1506988 cuda_dnn.cc:8310] Unable to register cuDNN factory: Attempting to register factory for plugin cuDNN when one has already been registered\n",
      "E0000 00:00:1738836777.860385 1506988 cuda_blas.cc:1418] Unable to register cuBLAS factory: Attempting to register factory for plugin cuBLAS when one has already been registered\n",
      "2025-02-06 10:12:57.871133: I tensorflow/core/platform/cpu_feature_guard.cc:210] This TensorFlow binary is optimized to use available CPU instructions in performance-critical operations.\n",
      "To enable the following instructions: AVX2 FMA, in other operations, rebuild TensorFlow with the appropriate compiler flags.\n",
      "/tmp/ipykernel_1506988/4137359473.py:5: FutureWarning: In the future, the default backend for leiden will be igraph instead of leidenalg.\n",
      "\n",
      " To achieve the future defaults please pass: flavor=\"igraph\" and n_iterations=2.  directed must also be False to work with igraph's implementation.\n",
      "  sc.tl.leiden(adata, random_state=0)\n"
     ]
    }
   ],
   "source": [
    "adata = sc.AnnData(X=x_train_encoded_01.values)  # Convertir a numpy array\n",
    "\n",
    "# Aplicar clustering y reducción de dimensionalidad\n",
    "sc.pp.neighbors(adata, use_rep=\"X\", random_state=0)\n",
    "sc.tl.leiden(adata, random_state=0)\n",
    "sc.tl.umap(adata, random_state=0)"
   ]
  },
  {
   "cell_type": "code",
   "execution_count": null,
   "id": "4f0a73cc",
   "metadata": {},
   "outputs": [],
   "source": []
  }
 ],
 "metadata": {
  "kernelspec": {
   "display_name": "Python 3 (ipykernel)",
   "language": "python",
   "name": "python3"
  },
  "language_info": {
   "codemirror_mode": {
    "name": "ipython",
    "version": 3
   },
   "file_extension": ".py",
   "mimetype": "text/x-python",
   "name": "python",
   "nbconvert_exporter": "python",
   "pygments_lexer": "ipython3",
   "version": "3.10.15"
  }
 },
 "nbformat": 4,
 "nbformat_minor": 5
}
