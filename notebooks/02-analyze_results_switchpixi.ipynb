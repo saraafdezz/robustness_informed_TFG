{
 "cells": [
  {
   "cell_type": "code",
   "execution_count": null,
   "metadata": {},
   "outputs": [],
   "source": [
    "    \n"
   ]
  },
  {
   "cell_type": "code",
   "execution_count": 1,
   "metadata": {},
   "outputs": [
    {
     "name": "stderr",
     "output_type": "stream",
     "text": [
      "2025-02-17 09:44:39.813281: E external/local_xla/xla/stream_executor/cuda/cuda_fft.cc:477] Unable to register cuFFT factory: Attempting to register factory for plugin cuFFT when one has already been registered\n",
      "WARNING: All log messages before absl::InitializeLog() is called are written to STDERR\n",
      "E0000 00:00:1739785479.826301 2110926 cuda_dnn.cc:8310] Unable to register cuDNN factory: Attempting to register factory for plugin cuDNN when one has already been registered\n",
      "E0000 00:00:1739785479.830207 2110926 cuda_blas.cc:1418] Unable to register cuBLAS factory: Attempting to register factory for plugin cuBLAS when one has already been registered\n",
      "2025-02-17 09:44:39.845867: I tensorflow/core/platform/cpu_feature_guard.cc:210] This TensorFlow binary is optimized to use available CPU instructions in performance-critical operations.\n",
      "To enable the following instructions: AVX2 FMA, in other operations, rebuild TensorFlow with the appropriate compiler flags.\n"
     ]
    }
   ],
   "source": [
    "%load_ext autoreload\n",
    "%autoreload 2\n",
    "\n",
    "from pathlib import Path\n",
    "\n",
    "import dotenv\n",
    "import numpy as np\n",
    "import pandas as pd\n",
    "import seaborn as sns\n",
    "import tensorflow as tf\n",
    "\n",
    "from isrobust_TFG.utils import set_all_seeds\n",
    "\n",
    "project_path = Path(dotenv.find_dotenv()).parent\n",
    "data_path = project_path.joinpath(\"data\")\n",
    "\n",
    "set_all_seeds(seed=42)\n",
    "\n",
    "tf.config.experimental.enable_op_determinism()"
   ]
  },
  {
   "cell_type": "code",
   "execution_count": 28,
   "metadata": {},
   "outputs": [],
   "source": [
    "config = dotenv.dotenv_values()\n",
    "\n",
    "stop = float(0.65)\n",
    "start = float(0.05)\n",
    "step = float(0.2)"
   ]
  },
  {
   "cell_type": "code",
   "execution_count": 29,
   "metadata": {},
   "outputs": [],
   "source": [
    "frac_list = np.arange(start, stop, step)"
   ]
  },
  {
   "cell_type": "code",
   "execution_count": 30,
   "metadata": {},
   "outputs": [],
   "source": [
    "results_path = Path(config[\"RESULTS_FOLDER\"]).resolve()\n",
    "figs_path = results_path.joinpath(\"figs\")\n",
    "tables_path = results_path.joinpath(\"tables\")"
   ]
  },
  {
   "cell_type": "code",
   "execution_count": 31,
   "metadata": {},
   "outputs": [
    {
     "data": {
      "text/plain": [
       "PosixPath('/home/sfernandez/TFG/robustness_informed_TFG/path')"
      ]
     },
     "execution_count": 31,
     "metadata": {},
     "output_type": "execute_result"
    }
   ],
   "source": [
    "results_path"
   ]
  },
  {
   "cell_type": "code",
   "execution_count": 32,
   "metadata": {},
   "outputs": [
    {
     "data": {
      "text/plain": [
       "['ivae_kegg',\n",
       " 'ivae_reactome',\n",
       " 'ivae_random-0.05',\n",
       " 'ivae_random-0.25',\n",
       " 'ivae_random-0.45']"
      ]
     },
     "execution_count": 32,
     "metadata": {},
     "output_type": "execute_result"
    }
   ],
   "source": [
    "models = [\"ivae_kegg\", \"ivae_reactome\"] + [\n",
    "    f\"ivae_random-{frac}\" for frac in frac_list\n",
    "]\n",
    "models"
   ]
  },
  {
   "cell_type": "code",
   "execution_count": 33,
   "metadata": {},
   "outputs": [
    {
     "data": {
      "text/html": [
       "<div>\n",
       "<style scoped>\n",
       "    .dataframe tbody tr th:only-of-type {\n",
       "        vertical-align: middle;\n",
       "    }\n",
       "\n",
       "    .dataframe tbody tr th {\n",
       "        vertical-align: top;\n",
       "    }\n",
       "\n",
       "    .dataframe thead th {\n",
       "        text-align: right;\n",
       "    }\n",
       "</style>\n",
       "<table border=\"1\" class=\"dataframe\">\n",
       "  <thead>\n",
       "    <tr style=\"text-align: right;\">\n",
       "      <th></th>\n",
       "      <th>seed</th>\n",
       "      <th>metric</th>\n",
       "      <th>split</th>\n",
       "      <th>score</th>\n",
       "      <th>model</th>\n",
       "    </tr>\n",
       "  </thead>\n",
       "  <tbody>\n",
       "    <tr>\n",
       "      <th>0</th>\n",
       "      <td>0</td>\n",
       "      <td>loss</td>\n",
       "      <td>train</td>\n",
       "      <td>8.289695</td>\n",
       "      <td>ivae_kegg</td>\n",
       "    </tr>\n",
       "    <tr>\n",
       "      <th>1</th>\n",
       "      <td>0</td>\n",
       "      <td>mse</td>\n",
       "      <td>train</td>\n",
       "      <td>0.000399</td>\n",
       "      <td>ivae_kegg</td>\n",
       "    </tr>\n",
       "    <tr>\n",
       "      <th>2</th>\n",
       "      <td>0</td>\n",
       "      <td>loss</td>\n",
       "      <td>val</td>\n",
       "      <td>8.241375</td>\n",
       "      <td>ivae_kegg</td>\n",
       "    </tr>\n",
       "    <tr>\n",
       "      <th>3</th>\n",
       "      <td>0</td>\n",
       "      <td>mse</td>\n",
       "      <td>val</td>\n",
       "      <td>0.000397</td>\n",
       "      <td>ivae_kegg</td>\n",
       "    </tr>\n",
       "    <tr>\n",
       "      <th>4</th>\n",
       "      <td>0</td>\n",
       "      <td>loss</td>\n",
       "      <td>test</td>\n",
       "      <td>8.273416</td>\n",
       "      <td>ivae_kegg</td>\n",
       "    </tr>\n",
       "  </tbody>\n",
       "</table>\n",
       "</div>"
      ],
      "text/plain": [
       "   seed metric  split     score      model\n",
       "0     0   loss  train  8.289695  ivae_kegg\n",
       "1     0    mse  train  0.000399  ivae_kegg\n",
       "2     0   loss    val  8.241375  ivae_kegg\n",
       "3     0    mse    val  0.000397  ivae_kegg\n",
       "4     0   loss   test  8.273416  ivae_kegg"
      ]
     },
     "execution_count": 33,
     "metadata": {},
     "output_type": "execute_result"
    }
   ],
   "source": [
    "# Metrics\n",
    "\n",
    "metric_scores = [\n",
    "    pd.read_pickle(results_path.joinpath(m, \"scores_metrics.pkl\")) for m in models\n",
    "]\n",
    "metric_scores = pd.concat(metric_scores, axis=0, ignore_index=True)\n",
    "metric_scores = metric_scores\n",
    "metric_scores.head()"
   ]
  },
  {
   "cell_type": "code",
   "execution_count": 35,
   "metadata": {},
   "outputs": [
    {
     "data": {
      "text/plain": [
       "['ivae_kegg',\n",
       " 'ivae_reactome',\n",
       " 'ivae_random-0.05',\n",
       " 'ivae_random-0.25',\n",
       " 'ivae_random-0.45']"
      ]
     },
     "execution_count": 35,
     "metadata": {},
     "output_type": "execute_result"
    }
   ],
   "source": [
    "models"
   ]
  },
  {
   "cell_type": "code",
   "execution_count": 40,
   "metadata": {},
   "outputs": [],
   "source": [
    "clustering_scores = [\n",
    "    pd.read_pickle(results_path.joinpath('ivae_random-0.05', \"scores_clustering.pkl\"))\n",
    "]"
   ]
  },
  {
   "cell_type": "code",
   "execution_count": 41,
   "metadata": {},
   "outputs": [
    {
     "data": {
      "text/plain": [
       "[   split  layer     score             model\n",
       " 0  train      1  0.730876  ivae_random-0.05\n",
       " 0  train      1  0.585536  ivae_random-0.05\n",
       " 0  train      1  0.671018  ivae_random-0.05\n",
       " 1    val      1  0.734369  ivae_random-0.05\n",
       " 1    val      1  0.589223  ivae_random-0.05\n",
       " 1    val      1  0.672991  ivae_random-0.05\n",
       " 2   test      1  0.711058  ivae_random-0.05\n",
       " 2   test      1  0.590684  ivae_random-0.05\n",
       " 2   test      1  0.692945  ivae_random-0.05]"
      ]
     },
     "execution_count": 41,
     "metadata": {},
     "output_type": "execute_result"
    }
   ],
   "source": [
    "clustering_scores"
   ]
  },
  {
   "cell_type": "code",
   "execution_count": 36,
   "metadata": {},
   "outputs": [
    {
     "data": {
      "text/html": [
       "<div>\n",
       "<style scoped>\n",
       "    .dataframe tbody tr th:only-of-type {\n",
       "        vertical-align: middle;\n",
       "    }\n",
       "\n",
       "    .dataframe tbody tr th {\n",
       "        vertical-align: top;\n",
       "    }\n",
       "\n",
       "    .dataframe thead th {\n",
       "        text-align: right;\n",
       "    }\n",
       "</style>\n",
       "<table border=\"1\" class=\"dataframe\">\n",
       "  <thead>\n",
       "    <tr style=\"text-align: right;\">\n",
       "      <th></th>\n",
       "      <th>split</th>\n",
       "      <th>layer</th>\n",
       "      <th>score</th>\n",
       "      <th>model</th>\n",
       "    </tr>\n",
       "  </thead>\n",
       "  <tbody>\n",
       "  </tbody>\n",
       "</table>\n",
       "</div>"
      ],
      "text/plain": [
       "Empty DataFrame\n",
       "Columns: [split, layer, score, model]\n",
       "Index: []"
      ]
     },
     "execution_count": 36,
     "metadata": {},
     "output_type": "execute_result"
    }
   ],
   "source": [
    "# clustering\n",
    "\n",
    "clustering_scores = [\n",
    "    pd.read_pickle(results_path.joinpath(m, \"scores_clustering.pkl\")) for m in models\n",
    "]\n",
    "clustering_scores = pd.concat(clustering_scores, axis=0, ignore_index=True)\n",
    "clustering_scores.head()"
   ]
  },
  {
   "cell_type": "code",
   "execution_count": 37,
   "metadata": {},
   "outputs": [
    {
     "data": {
      "text/html": [
       "<div>\n",
       "<style scoped>\n",
       "    .dataframe tbody tr th:only-of-type {\n",
       "        vertical-align: middle;\n",
       "    }\n",
       "\n",
       "    .dataframe tbody tr th {\n",
       "        vertical-align: top;\n",
       "    }\n",
       "\n",
       "    .dataframe thead th {\n",
       "        text-align: right;\n",
       "    }\n",
       "</style>\n",
       "<table border=\"1\" class=\"dataframe\">\n",
       "  <thead>\n",
       "    <tr style=\"text-align: right;\">\n",
       "      <th></th>\n",
       "      <th>split</th>\n",
       "      <th>layer</th>\n",
       "      <th>score</th>\n",
       "      <th>model</th>\n",
       "    </tr>\n",
       "  </thead>\n",
       "  <tbody>\n",
       "  </tbody>\n",
       "</table>\n",
       "</div>"
      ],
      "text/plain": [
       "Empty DataFrame\n",
       "Columns: [split, layer, score, model]\n",
       "Index: []"
      ]
     },
     "execution_count": 37,
     "metadata": {},
     "output_type": "execute_result"
    }
   ],
   "source": [
    "clustering_scores"
   ]
  },
  {
   "cell_type": "code",
   "execution_count": 38,
   "metadata": {},
   "outputs": [
    {
     "data": {
      "text/plain": [
       "Series([], dtype: int64)"
      ]
     },
     "execution_count": 38,
     "metadata": {},
     "output_type": "execute_result"
    }
   ],
   "source": [
    "clustering_scores.groupby([\"model\", \"layer\"]).size()"
   ]
  },
  {
   "cell_type": "code",
   "execution_count": 39,
   "metadata": {},
   "outputs": [
    {
     "data": {
      "text/html": [
       "<div>\n",
       "<style scoped>\n",
       "    .dataframe tbody tr th:only-of-type {\n",
       "        vertical-align: middle;\n",
       "    }\n",
       "\n",
       "    .dataframe tbody tr th {\n",
       "        vertical-align: top;\n",
       "    }\n",
       "\n",
       "    .dataframe thead th {\n",
       "        text-align: right;\n",
       "    }\n",
       "</style>\n",
       "<table border=\"1\" class=\"dataframe\">\n",
       "  <thead>\n",
       "    <tr style=\"text-align: right;\">\n",
       "      <th></th>\n",
       "      <th>split</th>\n",
       "      <th>layer</th>\n",
       "      <th>score</th>\n",
       "      <th>model</th>\n",
       "    </tr>\n",
       "  </thead>\n",
       "  <tbody>\n",
       "  </tbody>\n",
       "</table>\n",
       "</div>"
      ],
      "text/plain": [
       "Empty DataFrame\n",
       "Columns: [split, layer, score, model]\n",
       "Index: []"
      ]
     },
     "execution_count": 39,
     "metadata": {},
     "output_type": "execute_result"
    }
   ],
   "source": [
    "# informed\n",
    "\n",
    "informed_scores = [\n",
    "    pd.read_pickle(results_path.joinpath(m, \"scores_informed.pkl\")) for m in models\n",
    "]\n",
    "informed_scores = pd.concat(informed_scores, axis=0, ignore_index=True)\n",
    "informed_scores.head()"
   ]
  },
  {
   "cell_type": "code",
   "execution_count": 25,
   "metadata": {},
   "outputs": [
    {
     "data": {
      "text/plain": [
       "model            layer\n",
       "ivae_random-0.1  1        9\n",
       "dtype: int64"
      ]
     },
     "execution_count": 25,
     "metadata": {},
     "output_type": "execute_result"
    }
   ],
   "source": [
    "informed_scores.groupby([\"model\", \"layer\"]).size()"
   ]
  },
  {
   "cell_type": "code",
   "execution_count": 26,
   "metadata": {},
   "outputs": [],
   "source": [
    "clustering_scores[\"kind\"] = \"clustering\"\n",
    "informed_scores[\"kind\"] = \"informed\""
   ]
  },
  {
   "cell_type": "code",
   "execution_count": 27,
   "metadata": {},
   "outputs": [],
   "source": [
    "(metric_scores\n",
    " .query(\"metric=='mse'\")\n",
    " .drop([\"seed\"], axis=1)\n",
    " .groupby([\"model\", \"metric\", \"split\"])[\"score\"]\n",
    " .describe()\n",
    " .drop([\"count\", \"min\", \"max\"], axis=1)\n",
    " .to_latex(\n",
    "   \"mse.tex\",\n",
    "    bold_rows=True,\n",
    "    escape=True,\n",
    "))"
   ]
  },
  {
   "cell_type": "code",
   "execution_count": 28,
   "metadata": {},
   "outputs": [],
   "source": [
    "metric_scores_to_plot = metric_scores.copy().query(\"split=='test'\").query(\"metric=='mse'\").rename(columns={\"model\": \"Modelo\", \"score\":\"Valor\"})\n",
    "metric_scores_to_plot[\"Valor\"] = -np.log(metric_scores_to_plot[\"Valor\"])"
   ]
  },
  {
   "cell_type": "code",
   "execution_count": 29,
   "metadata": {},
   "outputs": [
    {
     "data": {
      "image/png": "[encoded data removed]",
      "text/plain": [
       "<Figure size 3136x630 with 1 Axes>"
      ]
     },
     "metadata": {},
     "output_type": "display_data"
    }
   ],
   "source": [
    "custom_params = {\"axes.spines.right\": False, \"axes.spines.top\": False}\n",
    "sns.set_theme(context=\"paper\", font_scale=2, style=\"ticks\", rc=custom_params)\n",
    "fac = 0.7\n",
    "\n",
    "g = sns.catplot(\n",
    "    data=metric_scores_to_plot,\n",
    "    kind=\"violin\",\n",
    "    col=\"metric\",\n",
    "    height=9 * fac,\n",
    "    aspect=16 / 9 * fac,\n",
    "    sharey=True,\n",
    "    sharex=False,\n",
    "    y=\"Modelo\",\n",
    "    x=\"Valor\",\n",
    "    split=False,\n",
    "    cut=0,\n",
    "    fill=False,\n",
    "    density_norm=\"count\",\n",
    "    inner=\"quart\",\n",
    "    linewidth=2,\n",
    "    legend_out=False,\n",
    "    col_wrap=4,\n",
    ")\n",
    "\n",
    "g.savefig(\"model_mse.pdf\")"
   ]
  },
  {
   "cell_type": "code",
   "execution_count": 30,
   "metadata": {},
   "outputs": [
    {
     "data": {
      "text/html": [
       "<div>\n",
       "<style scoped>\n",
       "    .dataframe tbody tr th:only-of-type {\n",
       "        vertical-align: middle;\n",
       "    }\n",
       "\n",
       "    .dataframe tbody tr th {\n",
       "        vertical-align: top;\n",
       "    }\n",
       "\n",
       "    .dataframe thead th {\n",
       "        text-align: right;\n",
       "    }\n",
       "</style>\n",
       "<table border=\"1\" class=\"dataframe\">\n",
       "  <thead>\n",
       "    <tr style=\"text-align: right;\">\n",
       "      <th></th>\n",
       "      <th>layer</th>\n",
       "      <th>score</th>\n",
       "      <th>model</th>\n",
       "      <th>metric</th>\n",
       "    </tr>\n",
       "  </thead>\n",
       "  <tbody>\n",
       "    <tr>\n",
       "      <th>6</th>\n",
       "      <td>1</td>\n",
       "      <td>0.528596</td>\n",
       "      <td>ivae_random-0.1</td>\n",
       "      <td>clustering</td>\n",
       "    </tr>\n",
       "    <tr>\n",
       "      <th>7</th>\n",
       "      <td>1</td>\n",
       "      <td>0.517018</td>\n",
       "      <td>ivae_random-0.1</td>\n",
       "      <td>clustering</td>\n",
       "    </tr>\n",
       "    <tr>\n",
       "      <th>8</th>\n",
       "      <td>1</td>\n",
       "      <td>0.626757</td>\n",
       "      <td>ivae_random-0.1</td>\n",
       "      <td>clustering</td>\n",
       "    </tr>\n",
       "    <tr>\n",
       "      <th>12</th>\n",
       "      <td>1</td>\n",
       "      <td>0.066683</td>\n",
       "      <td>ivae_random-0.1</td>\n",
       "      <td>informed</td>\n",
       "    </tr>\n",
       "    <tr>\n",
       "      <th>13</th>\n",
       "      <td>1</td>\n",
       "      <td>0.017120</td>\n",
       "      <td>ivae_random-0.1</td>\n",
       "      <td>informed</td>\n",
       "    </tr>\n",
       "  </tbody>\n",
       "</table>\n",
       "</div>"
      ],
      "text/plain": [
       "    layer     score            model      metric\n",
       "6       1  0.528596  ivae_random-0.1  clustering\n",
       "7       1  0.517018  ivae_random-0.1  clustering\n",
       "8       1  0.626757  ivae_random-0.1  clustering\n",
       "12      1  0.066683  ivae_random-0.1    informed\n",
       "13      1  0.017120  ivae_random-0.1    informed"
      ]
     },
     "execution_count": 30,
     "metadata": {},
     "output_type": "execute_result"
    }
   ],
   "source": [
    "scores = (\n",
    "    pd.concat((clustering_scores, informed_scores), axis=0, ignore_index=True)\n",
    "    .query(\"split=='test'\")\n",
    "    .query(\"layer <= 2\")\n",
    "    .drop([\"split\"], axis=1)\n",
    "    .rename(columns={\"kind\": \"metric\"})\n",
    ")\n",
    "\n",
    "scores.head()"
   ]
  },
  {
   "cell_type": "code",
   "execution_count": 31,
   "metadata": {},
   "outputs": [
    {
     "data": {
      "text/html": [
       "<div>\n",
       "<style scoped>\n",
       "    .dataframe tbody tr th:only-of-type {\n",
       "        vertical-align: middle;\n",
       "    }\n",
       "\n",
       "    .dataframe tbody tr th {\n",
       "        vertical-align: top;\n",
       "    }\n",
       "\n",
       "    .dataframe thead th {\n",
       "        text-align: right;\n",
       "    }\n",
       "</style>\n",
       "<table border=\"1\" class=\"dataframe\">\n",
       "  <thead>\n",
       "    <tr style=\"text-align: right;\">\n",
       "      <th></th>\n",
       "      <th>layer</th>\n",
       "      <th>Valor</th>\n",
       "      <th>model</th>\n",
       "      <th>Métrica</th>\n",
       "      <th>layer_name</th>\n",
       "      <th>Modelo</th>\n",
       "    </tr>\n",
       "  </thead>\n",
       "  <tbody>\n",
       "    <tr>\n",
       "      <th>6</th>\n",
       "      <td>1</td>\n",
       "      <td>0.528596</td>\n",
       "      <td>ivae_random-0.1</td>\n",
       "      <td>AMI</td>\n",
       "      <td>Pathways</td>\n",
       "      <td>ivae_random-0.1 (Pathways)</td>\n",
       "    </tr>\n",
       "    <tr>\n",
       "      <th>7</th>\n",
       "      <td>1</td>\n",
       "      <td>0.517018</td>\n",
       "      <td>ivae_random-0.1</td>\n",
       "      <td>AMI</td>\n",
       "      <td>Pathways</td>\n",
       "      <td>ivae_random-0.1 (Pathways)</td>\n",
       "    </tr>\n",
       "    <tr>\n",
       "      <th>8</th>\n",
       "      <td>1</td>\n",
       "      <td>0.626757</td>\n",
       "      <td>ivae_random-0.1</td>\n",
       "      <td>AMI</td>\n",
       "      <td>Pathways</td>\n",
       "      <td>ivae_random-0.1 (Pathways)</td>\n",
       "    </tr>\n",
       "    <tr>\n",
       "      <th>12</th>\n",
       "      <td>1</td>\n",
       "      <td>0.066683</td>\n",
       "      <td>ivae_random-0.1</td>\n",
       "      <td>$\\tau$</td>\n",
       "      <td>Pathways</td>\n",
       "      <td>ivae_random-0.1 (Pathways)</td>\n",
       "    </tr>\n",
       "    <tr>\n",
       "      <th>13</th>\n",
       "      <td>1</td>\n",
       "      <td>0.017120</td>\n",
       "      <td>ivae_random-0.1</td>\n",
       "      <td>$\\tau$</td>\n",
       "      <td>Pathways</td>\n",
       "      <td>ivae_random-0.1 (Pathways)</td>\n",
       "    </tr>\n",
       "  </tbody>\n",
       "</table>\n",
       "</div>"
      ],
      "text/plain": [
       "    layer     Valor            model Métrica layer_name  \\\n",
       "6       1  0.528596  ivae_random-0.1     AMI   Pathways   \n",
       "7       1  0.517018  ivae_random-0.1     AMI   Pathways   \n",
       "8       1  0.626757  ivae_random-0.1     AMI   Pathways   \n",
       "12      1  0.066683  ivae_random-0.1  $\\tau$   Pathways   \n",
       "13      1  0.017120  ivae_random-0.1  $\\tau$   Pathways   \n",
       "\n",
       "                        Modelo  \n",
       "6   ivae_random-0.1 (Pathways)  \n",
       "7   ivae_random-0.1 (Pathways)  \n",
       "8   ivae_random-0.1 (Pathways)  \n",
       "12  ivae_random-0.1 (Pathways)  \n",
       "13  ivae_random-0.1 (Pathways)  "
      ]
     },
     "execution_count": 31,
     "metadata": {},
     "output_type": "execute_result"
    }
   ],
   "source": [
    "scores_to_plot = scores.copy()\n",
    "scores_to_plot[\"layer_name\"] = \"Pathways\"\n",
    "\n",
    "scores_to_plot = scores_to_plot.replace(\"clustering\", \"AMI\")\n",
    "scores_to_plot = scores_to_plot.replace(\"informed\", r\"$\\tau$\")\n",
    "\n",
    "mask = (scores_to_plot[\"layer\"] == 1) & (scores_to_plot[\"model\"] == \"ivae_kegg\")\n",
    "scores_to_plot.loc[mask, \"layer_name\"] = \"Circuitos\"\n",
    "\n",
    "mask = (scores_to_plot[\"layer\"] == 1) & (scores_to_plot[\"model\"] == \"ivae_random\")\n",
    "scores_to_plot.loc[mask, \"layer_name\"] = \"RndInf\"\n",
    "\n",
    "scores_to_plot[\"Modelo\"] = scores_to_plot[\"model\"] + \" (\" + scores_to_plot[\"layer_name\"] + \")\"\n",
    "\n",
    "scores_to_plot = scores_to_plot.rename(columns={\"score\": \"Valor\", \"metric\": \"Métrica\"})\n",
    "scores_to_plot.head()"
   ]
  },
  {
   "cell_type": "code",
   "execution_count": 32,
   "metadata": {},
   "outputs": [
    {
     "data": {
      "image/png": "[encoded data removed]",
      "text/plain": [
       "<Figure size 3136x630 with 2 Axes>"
      ]
     },
     "metadata": {},
     "output_type": "display_data"
    }
   ],
   "source": [
    "custom_params = {\"axes.spines.right\": False, \"axes.spines.top\": False}\n",
    "sns.set_theme(context=\"paper\", font_scale=2, style=\"ticks\", rc=custom_params)\n",
    "fac = 0.7\n",
    "\n",
    "g = sns.catplot(\n",
    "    data=scores_to_plot,\n",
    "    kind=\"violin\",\n",
    "    col=\"Métrica\",\n",
    "    height=9 * fac,\n",
    "    aspect=16 / 9 * fac,\n",
    "    sharey=True,\n",
    "    sharex=False,\n",
    "    y=\"Modelo\",\n",
    "    x=\"Valor\",\n",
    "    split=False,\n",
    "    cut=0,\n",
    "    fill=False,\n",
    "    density_norm=\"count\",\n",
    "    inner=\"quart\",\n",
    "    linewidth=2,\n",
    "    legend_out=False,\n",
    "    col_wrap=4,\n",
    ")\n",
    "\n",
    "g.savefig(\"layer_scores.pdf\")"
   ]
  },
  {
   "cell_type": "code",
   "execution_count": 33,
   "metadata": {},
   "outputs": [],
   "source": [
    "def print_scores(df, fname):\n",
    "  df_to_print = df.copy().query(\"layer <= 2\")\n",
    "\n",
    "  df_to_print[\"Capa\"] = \"Pathways\"\n",
    "\n",
    "  mask = (df_to_print[\"layer\"] == 1) & (df_to_print[\"model\"] == \"ivae_kegg\")\n",
    "  df_to_print.loc[mask, \"Capa\"] = \"Circuitos\"\n",
    "\n",
    "  mask = (df_to_print[\"layer\"] == 1) & (df_to_print[\"model\"] == \"ivae_random\")\n",
    "  df_to_print.loc[mask, \"Capa\"] = \"RndInf\"\n",
    "\n",
    "  (df_to_print\n",
    "  .rename(columns={\"model\": \"Modelo\", \"split\": \"Partición\"})\n",
    "  .groupby([\"Modelo\", \"Capa\", \"Partición\"])[\"score\"]\n",
    "  .describe().drop([\"count\", \"min\", \"max\"], axis=1)\n",
    "  .to_latex(\n",
    "      fname,\n",
    "      bold_rows=True,\n",
    "      escape=True,\n",
    "  ))"
   ]
  },
  {
   "cell_type": "code",
   "execution_count": 34,
   "metadata": {},
   "outputs": [],
   "source": [
    "print_scores(informed_scores, \"informed.tex\")\n",
    "print_scores(clustering_scores, \"clustering.tex\")\n"
   ]
  },
  {
   "cell_type": "code",
   "execution_count": null,
   "metadata": {},
   "outputs": [],
   "source": []
  },
  {
   "cell_type": "code",
   "execution_count": null,
   "metadata": {},
   "outputs": [],
   "source": []
  },
  {
   "cell_type": "code",
   "execution_count": null,
   "metadata": {},
   "outputs": [],
   "source": []
  }
 ],
 "metadata": {
  "kernelspec": {
   "display_name": "Python 3 (ipykernel)",
   "language": "python",
   "name": "python3"
  },
  "language_info": {
   "codemirror_mode": {
    "name": "ipython",
    "version": 3
   },
   "file_extension": ".py",
   "mimetype": "text/x-python",
   "name": "python",
   "nbconvert_exporter": "python",
   "pygments_lexer": "ipython3",
   "version": "3.10.15"
  }
 },
 "nbformat": 4,
 "nbformat_minor": 4
}
