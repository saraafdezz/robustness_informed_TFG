{
 "cells": [
  {
   "cell_type": "markdown",
   "id": "338fbc26",
   "metadata": {},
   "source": [
    "Import Module"
   ]
  },
  {
   "cell_type": "code",
   "execution_count": 1,
   "id": "a29d5d12",
   "metadata": {
    "ExecuteTime": {
     "end_time": "2024-02-17T12:13:05.482681Z",
     "start_time": "2024-02-17T12:12:44.600346Z"
    }
   },
   "outputs": [
    {
     "ename": "ModuleNotFoundError",
     "evalue": "No module named 'scPAFA'",
     "output_type": "error",
     "traceback": [
      "\u001b[0;31m---------------------------------------------------------------------------\u001b[0m",
      "\u001b[0;31mModuleNotFoundError\u001b[0m                       Traceback (most recent call last)",
      "Cell \u001b[0;32mIn[1], line 1\u001b[0m\n\u001b[0;32m----> 1\u001b[0m \u001b[38;5;28;01mimport\u001b[39;00m\u001b[38;5;250m \u001b[39m\u001b[38;5;21;01mscPAFA\u001b[39;00m\n\u001b[1;32m      2\u001b[0m \u001b[38;5;28;01mimport\u001b[39;00m\u001b[38;5;250m \u001b[39m\u001b[38;5;21;01mscanpy\u001b[39;00m\u001b[38;5;250m \u001b[39m\u001b[38;5;28;01mas\u001b[39;00m\u001b[38;5;250m \u001b[39m\u001b[38;5;21;01msc\u001b[39;00m\n\u001b[1;32m      3\u001b[0m \u001b[38;5;28;01mimport\u001b[39;00m\u001b[38;5;250m \u001b[39m\u001b[38;5;21;01mjson\u001b[39;00m\n",
      "\u001b[0;31mModuleNotFoundError\u001b[0m: No module named 'scPAFA'"
     ]
    }
   ],
   "source": [
    "import scPAFA\n",
    "import scanpy as sc\n",
    "import json"
   ]
  },
  {
   "cell_type": "markdown",
   "id": "855da23f",
   "metadata": {},
   "source": [
    "Use scanpy to read anndata in h5ad format, which contain single-cell gene expression matrix"
   ]
  },
  {
   "cell_type": "code",
   "execution_count": null,
   "id": "6ec0d5b3",
   "metadata": {
    "ExecuteTime": {
     "end_time": "2024-02-17T12:14:10.522150Z",
     "start_time": "2024-02-17T12:13:05.486873Z"
    }
   },
   "outputs": [],
   "source": [
    "#read_adata_single_cell\n",
    "#lupus_dataset\n",
    "adata_orig = sc.read_h5ad('kang_counts_25k.h5ad')"
   ]
  },
  {
   "cell_type": "markdown",
   "id": "86f5292f",
   "metadata": {
    "ExecuteTime": {
     "end_time": "2024-02-17T13:12:50.924677Z",
     "start_time": "2024-02-17T13:12:50.914705Z"
    }
   },
   "source": [
    "Import pathway collection"
   ]
  },
  {
   "cell_type": "markdown",
   "id": "361d4b65",
   "metadata": {},
   "source": [
    "Quality control and reformat of pathway collection"
   ]
  },
  {
   "cell_type": "code",
   "execution_count": null,
   "id": "dcbe40cb",
   "metadata": {},
   "outputs": [
    {
     "data": {
      "text/html": [
       "<div>\n",
       "<style scoped>\n",
       "    .dataframe tbody tr th:only-of-type {\n",
       "        vertical-align: middle;\n",
       "    }\n",
       "\n",
       "    .dataframe tbody tr th {\n",
       "        vertical-align: top;\n",
       "    }\n",
       "\n",
       "    .dataframe thead th {\n",
       "        text-align: right;\n",
       "    }\n",
       "</style>\n",
       "<table border=\"1\" class=\"dataframe\">\n",
       "  <thead>\n",
       "    <tr style=\"text-align: right;\">\n",
       "      <th>geneset</th>\n",
       "      <th>REACTOME_2_LTR_CIRCLE_FORMATION</th>\n",
       "      <th>REACTOME_ABACAVIR_METABOLISM</th>\n",
       "      <th>REACTOME_ABACAVIR_TRANSMEMBRANE_TRANSPORT</th>\n",
       "      <th>REACTOME_ABACAVIR_TRANSPORT_AND_METABOLISM</th>\n",
       "      <th>REACTOME_ABC_FAMILY_PROTEINS_MEDIATED_TRANSPORT</th>\n",
       "      <th>REACTOME_ABC_TRANSPORTERS_IN_LIPID_HOMEOSTASIS</th>\n",
       "      <th>REACTOME_ABC_TRANSPORTER_DISORDERS</th>\n",
       "      <th>REACTOME_ABERRANT_REGULATION_OF_MITOTIC_EXIT_IN_CANCER_DUE_TO_RB1_DEFECTS</th>\n",
       "      <th>REACTOME_ABERRANT_REGULATION_OF_MITOTIC_G1_S_TRANSITION_IN_CANCER_DUE_TO_RB1_DEFECTS</th>\n",
       "      <th>REACTOME_ABORTIVE_ELONGATION_OF_HIV_1_TRANSCRIPT_IN_THE_ABSENCE_OF_TAT</th>\n",
       "      <th>...</th>\n",
       "      <th>REACTOME_WNT5A_DEPENDENT_INTERNALIZATION_OF_FZD2_FZD5_AND_ROR2</th>\n",
       "      <th>REACTOME_WNT5A_DEPENDENT_INTERNALIZATION_OF_FZD4</th>\n",
       "      <th>REACTOME_WNT_LIGAND_BIOGENESIS_AND_TRAFFICKING</th>\n",
       "      <th>REACTOME_WNT_MEDIATED_ACTIVATION_OF_DVL</th>\n",
       "      <th>REACTOME_XENOBIOTICS</th>\n",
       "      <th>REACTOME_YAP1_AND_WWTR1_TAZ_STIMULATED_GENE_EXPRESSION</th>\n",
       "      <th>REACTOME_ZBP1_DAI_MEDIATED_INDUCTION_OF_TYPE_I_IFNS</th>\n",
       "      <th>REACTOME_ZINC_EFFLUX_AND_COMPARTMENTALIZATION_BY_THE_SLC30_FAMILY</th>\n",
       "      <th>REACTOME_ZINC_INFLUX_INTO_CELLS_BY_THE_SLC39_GENE_FAMILY</th>\n",
       "      <th>REACTOME_ZINC_TRANSPORTERS</th>\n",
       "    </tr>\n",
       "    <tr>\n",
       "      <th>genesymbol</th>\n",
       "      <th></th>\n",
       "      <th></th>\n",
       "      <th></th>\n",
       "      <th></th>\n",
       "      <th></th>\n",
       "      <th></th>\n",
       "      <th></th>\n",
       "      <th></th>\n",
       "      <th></th>\n",
       "      <th></th>\n",
       "      <th></th>\n",
       "      <th></th>\n",
       "      <th></th>\n",
       "      <th></th>\n",
       "      <th></th>\n",
       "      <th></th>\n",
       "      <th></th>\n",
       "      <th></th>\n",
       "      <th></th>\n",
       "      <th></th>\n",
       "      <th></th>\n",
       "    </tr>\n",
       "  </thead>\n",
       "  <tbody>\n",
       "    <tr>\n",
       "      <th>A1BG</th>\n",
       "      <td>0.0</td>\n",
       "      <td>0.0</td>\n",
       "      <td>0.0</td>\n",
       "      <td>0.0</td>\n",
       "      <td>0.0</td>\n",
       "      <td>0.0</td>\n",
       "      <td>0.0</td>\n",
       "      <td>0.0</td>\n",
       "      <td>0.0</td>\n",
       "      <td>0.0</td>\n",
       "      <td>...</td>\n",
       "      <td>0.0</td>\n",
       "      <td>0.0</td>\n",
       "      <td>0.0</td>\n",
       "      <td>0.0</td>\n",
       "      <td>0.0</td>\n",
       "      <td>0.0</td>\n",
       "      <td>0.0</td>\n",
       "      <td>0.0</td>\n",
       "      <td>0.0</td>\n",
       "      <td>0.0</td>\n",
       "    </tr>\n",
       "    <tr>\n",
       "      <th>A1CF</th>\n",
       "      <td>0.0</td>\n",
       "      <td>0.0</td>\n",
       "      <td>0.0</td>\n",
       "      <td>0.0</td>\n",
       "      <td>0.0</td>\n",
       "      <td>0.0</td>\n",
       "      <td>0.0</td>\n",
       "      <td>0.0</td>\n",
       "      <td>0.0</td>\n",
       "      <td>0.0</td>\n",
       "      <td>...</td>\n",
       "      <td>0.0</td>\n",
       "      <td>0.0</td>\n",
       "      <td>0.0</td>\n",
       "      <td>0.0</td>\n",
       "      <td>0.0</td>\n",
       "      <td>0.0</td>\n",
       "      <td>0.0</td>\n",
       "      <td>0.0</td>\n",
       "      <td>0.0</td>\n",
       "      <td>0.0</td>\n",
       "    </tr>\n",
       "    <tr>\n",
       "      <th>A2M</th>\n",
       "      <td>0.0</td>\n",
       "      <td>0.0</td>\n",
       "      <td>0.0</td>\n",
       "      <td>0.0</td>\n",
       "      <td>0.0</td>\n",
       "      <td>0.0</td>\n",
       "      <td>0.0</td>\n",
       "      <td>0.0</td>\n",
       "      <td>0.0</td>\n",
       "      <td>0.0</td>\n",
       "      <td>...</td>\n",
       "      <td>0.0</td>\n",
       "      <td>0.0</td>\n",
       "      <td>0.0</td>\n",
       "      <td>0.0</td>\n",
       "      <td>0.0</td>\n",
       "      <td>0.0</td>\n",
       "      <td>0.0</td>\n",
       "      <td>0.0</td>\n",
       "      <td>0.0</td>\n",
       "      <td>0.0</td>\n",
       "    </tr>\n",
       "    <tr>\n",
       "      <th>A4GNT</th>\n",
       "      <td>0.0</td>\n",
       "      <td>0.0</td>\n",
       "      <td>0.0</td>\n",
       "      <td>0.0</td>\n",
       "      <td>0.0</td>\n",
       "      <td>0.0</td>\n",
       "      <td>0.0</td>\n",
       "      <td>0.0</td>\n",
       "      <td>0.0</td>\n",
       "      <td>0.0</td>\n",
       "      <td>...</td>\n",
       "      <td>0.0</td>\n",
       "      <td>0.0</td>\n",
       "      <td>0.0</td>\n",
       "      <td>0.0</td>\n",
       "      <td>0.0</td>\n",
       "      <td>0.0</td>\n",
       "      <td>0.0</td>\n",
       "      <td>0.0</td>\n",
       "      <td>0.0</td>\n",
       "      <td>0.0</td>\n",
       "    </tr>\n",
       "    <tr>\n",
       "      <th>AAAS</th>\n",
       "      <td>0.0</td>\n",
       "      <td>0.0</td>\n",
       "      <td>0.0</td>\n",
       "      <td>0.0</td>\n",
       "      <td>0.0</td>\n",
       "      <td>0.0</td>\n",
       "      <td>0.0</td>\n",
       "      <td>0.0</td>\n",
       "      <td>0.0</td>\n",
       "      <td>0.0</td>\n",
       "      <td>...</td>\n",
       "      <td>0.0</td>\n",
       "      <td>0.0</td>\n",
       "      <td>0.0</td>\n",
       "      <td>0.0</td>\n",
       "      <td>0.0</td>\n",
       "      <td>0.0</td>\n",
       "      <td>0.0</td>\n",
       "      <td>0.0</td>\n",
       "      <td>0.0</td>\n",
       "      <td>0.0</td>\n",
       "    </tr>\n",
       "  </tbody>\n",
       "</table>\n",
       "<p>5 rows × 1615 columns</p>\n",
       "</div>"
      ],
      "text/plain": [
       "geneset     REACTOME_2_LTR_CIRCLE_FORMATION  REACTOME_ABACAVIR_METABOLISM  \\\n",
       "genesymbol                                                                  \n",
       "A1BG                                    0.0                           0.0   \n",
       "A1CF                                    0.0                           0.0   \n",
       "A2M                                     0.0                           0.0   \n",
       "A4GNT                                   0.0                           0.0   \n",
       "AAAS                                    0.0                           0.0   \n",
       "\n",
       "geneset     REACTOME_ABACAVIR_TRANSMEMBRANE_TRANSPORT  \\\n",
       "genesymbol                                              \n",
       "A1BG                                              0.0   \n",
       "A1CF                                              0.0   \n",
       "A2M                                               0.0   \n",
       "A4GNT                                             0.0   \n",
       "AAAS                                              0.0   \n",
       "\n",
       "geneset     REACTOME_ABACAVIR_TRANSPORT_AND_METABOLISM  \\\n",
       "genesymbol                                               \n",
       "A1BG                                               0.0   \n",
       "A1CF                                               0.0   \n",
       "A2M                                                0.0   \n",
       "A4GNT                                              0.0   \n",
       "AAAS                                               0.0   \n",
       "\n",
       "geneset     REACTOME_ABC_FAMILY_PROTEINS_MEDIATED_TRANSPORT  \\\n",
       "genesymbol                                                    \n",
       "A1BG                                                    0.0   \n",
       "A1CF                                                    0.0   \n",
       "A2M                                                     0.0   \n",
       "A4GNT                                                   0.0   \n",
       "AAAS                                                    0.0   \n",
       "\n",
       "geneset     REACTOME_ABC_TRANSPORTERS_IN_LIPID_HOMEOSTASIS  \\\n",
       "genesymbol                                                   \n",
       "A1BG                                                   0.0   \n",
       "A1CF                                                   0.0   \n",
       "A2M                                                    0.0   \n",
       "A4GNT                                                  0.0   \n",
       "AAAS                                                   0.0   \n",
       "\n",
       "geneset     REACTOME_ABC_TRANSPORTER_DISORDERS  \\\n",
       "genesymbol                                       \n",
       "A1BG                                       0.0   \n",
       "A1CF                                       0.0   \n",
       "A2M                                        0.0   \n",
       "A4GNT                                      0.0   \n",
       "AAAS                                       0.0   \n",
       "\n",
       "geneset     REACTOME_ABERRANT_REGULATION_OF_MITOTIC_EXIT_IN_CANCER_DUE_TO_RB1_DEFECTS  \\\n",
       "genesymbol                                                                              \n",
       "A1BG                                                      0.0                           \n",
       "A1CF                                                      0.0                           \n",
       "A2M                                                       0.0                           \n",
       "A4GNT                                                     0.0                           \n",
       "AAAS                                                      0.0                           \n",
       "\n",
       "geneset     REACTOME_ABERRANT_REGULATION_OF_MITOTIC_G1_S_TRANSITION_IN_CANCER_DUE_TO_RB1_DEFECTS  \\\n",
       "genesymbol                                                                                         \n",
       "A1BG                                                      0.0                                      \n",
       "A1CF                                                      0.0                                      \n",
       "A2M                                                       0.0                                      \n",
       "A4GNT                                                     0.0                                      \n",
       "AAAS                                                      0.0                                      \n",
       "\n",
       "geneset     REACTOME_ABORTIVE_ELONGATION_OF_HIV_1_TRANSCRIPT_IN_THE_ABSENCE_OF_TAT  \\\n",
       "genesymbol                                                                           \n",
       "A1BG                                                      0.0                        \n",
       "A1CF                                                      0.0                        \n",
       "A2M                                                       0.0                        \n",
       "A4GNT                                                     0.0                        \n",
       "AAAS                                                      0.0                        \n",
       "\n",
       "geneset     ...  \\\n",
       "genesymbol  ...   \n",
       "A1BG        ...   \n",
       "A1CF        ...   \n",
       "A2M         ...   \n",
       "A4GNT       ...   \n",
       "AAAS        ...   \n",
       "\n",
       "geneset     REACTOME_WNT5A_DEPENDENT_INTERNALIZATION_OF_FZD2_FZD5_AND_ROR2  \\\n",
       "genesymbol                                                                   \n",
       "A1BG                                                      0.0                \n",
       "A1CF                                                      0.0                \n",
       "A2M                                                       0.0                \n",
       "A4GNT                                                     0.0                \n",
       "AAAS                                                      0.0                \n",
       "\n",
       "geneset     REACTOME_WNT5A_DEPENDENT_INTERNALIZATION_OF_FZD4  \\\n",
       "genesymbol                                                     \n",
       "A1BG                                                     0.0   \n",
       "A1CF                                                     0.0   \n",
       "A2M                                                      0.0   \n",
       "A4GNT                                                    0.0   \n",
       "AAAS                                                     0.0   \n",
       "\n",
       "geneset     REACTOME_WNT_LIGAND_BIOGENESIS_AND_TRAFFICKING  \\\n",
       "genesymbol                                                   \n",
       "A1BG                                                   0.0   \n",
       "A1CF                                                   0.0   \n",
       "A2M                                                    0.0   \n",
       "A4GNT                                                  0.0   \n",
       "AAAS                                                   0.0   \n",
       "\n",
       "geneset     REACTOME_WNT_MEDIATED_ACTIVATION_OF_DVL  REACTOME_XENOBIOTICS  \\\n",
       "genesymbol                                                                  \n",
       "A1BG                                            0.0                   0.0   \n",
       "A1CF                                            0.0                   0.0   \n",
       "A2M                                             0.0                   0.0   \n",
       "A4GNT                                           0.0                   0.0   \n",
       "AAAS                                            0.0                   0.0   \n",
       "\n",
       "geneset     REACTOME_YAP1_AND_WWTR1_TAZ_STIMULATED_GENE_EXPRESSION  \\\n",
       "genesymbol                                                           \n",
       "A1BG                                                      0.0        \n",
       "A1CF                                                      0.0        \n",
       "A2M                                                       0.0        \n",
       "A4GNT                                                     0.0        \n",
       "AAAS                                                      0.0        \n",
       "\n",
       "geneset     REACTOME_ZBP1_DAI_MEDIATED_INDUCTION_OF_TYPE_I_IFNS  \\\n",
       "genesymbol                                                        \n",
       "A1BG                                                      0.0     \n",
       "A1CF                                                      0.0     \n",
       "A2M                                                       0.0     \n",
       "A4GNT                                                     0.0     \n",
       "AAAS                                                      0.0     \n",
       "\n",
       "geneset     REACTOME_ZINC_EFFLUX_AND_COMPARTMENTALIZATION_BY_THE_SLC30_FAMILY  \\\n",
       "genesymbol                                                                      \n",
       "A1BG                                                      0.0                   \n",
       "A1CF                                                      0.0                   \n",
       "A2M                                                       0.0                   \n",
       "A4GNT                                                     0.0                   \n",
       "AAAS                                                      0.0                   \n",
       "\n",
       "geneset     REACTOME_ZINC_INFLUX_INTO_CELLS_BY_THE_SLC39_GENE_FAMILY  \\\n",
       "genesymbol                                                             \n",
       "A1BG                                                      0.0          \n",
       "A1CF                                                      0.0          \n",
       "A2M                                                       0.0          \n",
       "A4GNT                                                     0.0          \n",
       "AAAS                                                      0.0          \n",
       "\n",
       "geneset     REACTOME_ZINC_TRANSPORTERS  \n",
       "genesymbol                              \n",
       "A1BG                               0.0  \n",
       "A1CF                               0.0  \n",
       "A2M                                0.0  \n",
       "A4GNT                              0.0  \n",
       "AAAS                               0.0  \n",
       "\n",
       "[5 rows x 1615 columns]"
      ]
     },
     "execution_count": 3,
     "metadata": {},
     "output_type": "execute_result"
    }
   ],
   "source": [
    "from ivae.bio import get_reactome_adj\n",
    "\n",
    "pathway_df = get_reactome_adj()\n",
    "pathway_df.head()"
   ]
  },
  {
   "cell_type": "code",
   "execution_count": null,
   "id": "ed7b3c0f",
   "metadata": {},
   "outputs": [],
   "source": [
    "pathway_dict = {}\n",
    "for col in pathway_df:\n",
    "    data = pathway_df[col]\n",
    "    data = data.index[data>0].tolist()\n",
    "    pathway_dict[col] = data"
   ]
  },
  {
   "cell_type": "code",
   "execution_count": null,
   "id": "619cca51",
   "metadata": {
    "ExecuteTime": {
     "end_time": "2024-02-17T12:14:30.495810Z",
     "start_time": "2024-02-17T12:14:10.755264Z"
    }
   },
   "outputs": [
    {
     "name": "stdout",
     "output_type": "stream",
     "text": [
      "Filtered out 240 pathways\n",
      "1375 pathways passed QC\n",
      "The maxRank must >= 1434 (The genes number of the longest pathway)\n",
      "adata.X is csr sparse matrix\n",
      "Step1 generate rank matrix\n",
      "1 batches need to rank, with each max 100000 cells\n",
      "Processing_batch_1\n"
     ]
    },
    {
     "name": "stderr",
     "output_type": "stream",
     "text": [
      "Ranking Chunks: 100%|██████████| 10/10 [00:23<00:00,  2.39s/it]\n"
     ]
    },
    {
     "name": "stdout",
     "output_type": "stream",
     "text": [
      "Rank done\n",
      "The output rank matrix can be used to calculate UCell score on different pathways set.\n",
      "The maxRank parameter use with this rank matrix in fast_ucell_score() must <= 2000\n",
      "Subset rank matrix by overlap genes in pathways\n",
      "Rank above maxRank to 0\n",
      "step2 calculating Score\n",
      "1 batches need to score, with each max 100000 cells\n",
      "processing_batch_1\n"
     ]
    },
    {
     "name": "stderr",
     "output_type": "stream",
     "text": [
      "Pathways: 100%|██████████| 1375/1375 [00:04<00:00, 335.38it/s]\n"
     ]
    },
    {
     "name": "stdout",
     "output_type": "stream",
     "text": [
      "Ucell_done\n",
      "Outputing_dataframe\n",
      "Filtered out 240 pathways\n",
      "1375 pathways passed QC\n",
      "The maxRank must >= 1434 (The genes number of the longest pathway)\n",
      "adata.X is csr sparse matrix\n",
      "Step1 generate rank matrix\n",
      "1 batches need to rank, with each max 100000 cells\n",
      "Processing_batch_1\n"
     ]
    },
    {
     "name": "stderr",
     "output_type": "stream",
     "text": [
      "Ranking Chunks: 100%|██████████| 10/10 [00:23<00:00,  2.38s/it]\n"
     ]
    },
    {
     "name": "stdout",
     "output_type": "stream",
     "text": [
      "Rank done\n",
      "The output rank matrix can be used to calculate UCell score on different pathways set.\n",
      "The maxRank parameter use with this rank matrix in fast_ucell_score() must <= 2000\n",
      "Subset rank matrix by overlap genes in pathways\n",
      "Rank above maxRank to 0\n",
      "step2 calculating Score\n",
      "1 batches need to score, with each max 100000 cells\n",
      "processing_batch_1\n"
     ]
    },
    {
     "name": "stderr",
     "output_type": "stream",
     "text": [
      "Pathways: 100%|██████████| 1375/1375 [00:04<00:00, 340.85it/s]\n"
     ]
    },
    {
     "name": "stdout",
     "output_type": "stream",
     "text": [
      "Ucell_done\n",
      "Outputing_dataframe\n",
      "Filtered out 240 pathways\n",
      "1375 pathways passed QC\n",
      "The maxRank must >= 1434 (The genes number of the longest pathway)\n",
      "adata.X is csr sparse matrix\n",
      "Step1 generate rank matrix\n",
      "1 batches need to rank, with each max 100000 cells\n",
      "Processing_batch_1\n"
     ]
    },
    {
     "name": "stderr",
     "output_type": "stream",
     "text": [
      "Ranking Chunks: 100%|██████████| 10/10 [00:24<00:00,  2.44s/it]\n"
     ]
    },
    {
     "name": "stdout",
     "output_type": "stream",
     "text": [
      "Rank done\n",
      "The output rank matrix can be used to calculate UCell score on different pathways set.\n",
      "The maxRank parameter use with this rank matrix in fast_ucell_score() must <= 2000\n",
      "Subset rank matrix by overlap genes in pathways\n",
      "Rank above maxRank to 0\n",
      "step2 calculating Score\n",
      "1 batches need to score, with each max 100000 cells\n",
      "processing_batch_1\n"
     ]
    },
    {
     "name": "stderr",
     "output_type": "stream",
     "text": [
      "Pathways: 100%|██████████| 1375/1375 [00:04<00:00, 329.19it/s]\n"
     ]
    },
    {
     "name": "stdout",
     "output_type": "stream",
     "text": [
      "Ucell_done\n",
      "Outputing_dataframe\n",
      "Filtered out 240 pathways\n",
      "1375 pathways passed QC\n",
      "The maxRank must >= 1434 (The genes number of the longest pathway)\n",
      "adata.X is csr sparse matrix\n",
      "Step1 generate rank matrix\n",
      "1 batches need to rank, with each max 100000 cells\n",
      "Processing_batch_1\n"
     ]
    },
    {
     "name": "stderr",
     "output_type": "stream",
     "text": [
      "Ranking Chunks: 100%|██████████| 10/10 [00:24<00:00,  2.43s/it]\n"
     ]
    },
    {
     "name": "stdout",
     "output_type": "stream",
     "text": [
      "Rank done\n",
      "The output rank matrix can be used to calculate UCell score on different pathways set.\n",
      "The maxRank parameter use with this rank matrix in fast_ucell_score() must <= 2000\n",
      "Subset rank matrix by overlap genes in pathways\n",
      "Rank above maxRank to 0\n",
      "step2 calculating Score\n",
      "1 batches need to score, with each max 100000 cells\n",
      "processing_batch_1\n"
     ]
    },
    {
     "name": "stderr",
     "output_type": "stream",
     "text": [
      "Pathways: 100%|██████████| 1375/1375 [00:04<00:00, 333.94it/s]\n"
     ]
    },
    {
     "name": "stdout",
     "output_type": "stream",
     "text": [
      "Ucell_done\n",
      "Outputing_dataframe\n",
      "Filtered out 240 pathways\n",
      "1375 pathways passed QC\n",
      "The maxRank must >= 1434 (The genes number of the longest pathway)\n",
      "adata.X is csr sparse matrix\n",
      "Step1 generate rank matrix\n",
      "1 batches need to rank, with each max 100000 cells\n",
      "Processing_batch_1\n"
     ]
    },
    {
     "name": "stderr",
     "output_type": "stream",
     "text": [
      "Ranking Chunks: 100%|██████████| 10/10 [00:24<00:00,  2.46s/it]\n"
     ]
    },
    {
     "name": "stdout",
     "output_type": "stream",
     "text": [
      "Rank done\n",
      "The output rank matrix can be used to calculate UCell score on different pathways set.\n",
      "The maxRank parameter use with this rank matrix in fast_ucell_score() must <= 2000\n",
      "Subset rank matrix by overlap genes in pathways\n",
      "Rank above maxRank to 0\n",
      "step2 calculating Score\n",
      "1 batches need to score, with each max 100000 cells\n",
      "processing_batch_1\n"
     ]
    },
    {
     "name": "stderr",
     "output_type": "stream",
     "text": [
      "Pathways: 100%|██████████| 1375/1375 [00:03<00:00, 346.53it/s]\n"
     ]
    },
    {
     "name": "stdout",
     "output_type": "stream",
     "text": [
      "Ucell_done\n",
      "Outputing_dataframe\n",
      "Filtered out 240 pathways\n",
      "1375 pathways passed QC\n",
      "The maxRank must >= 1434 (The genes number of the longest pathway)\n",
      "adata.X is csr sparse matrix\n",
      "Step1 generate rank matrix\n",
      "1 batches need to rank, with each max 100000 cells\n",
      "Processing_batch_1\n"
     ]
    },
    {
     "name": "stderr",
     "output_type": "stream",
     "text": [
      "Ranking Chunks: 100%|██████████| 10/10 [00:23<00:00,  2.33s/it]\n"
     ]
    },
    {
     "name": "stdout",
     "output_type": "stream",
     "text": [
      "Rank done\n",
      "The output rank matrix can be used to calculate UCell score on different pathways set.\n",
      "The maxRank parameter use with this rank matrix in fast_ucell_score() must <= 2000\n",
      "Subset rank matrix by overlap genes in pathways\n",
      "Rank above maxRank to 0\n",
      "step2 calculating Score\n",
      "1 batches need to score, with each max 100000 cells\n",
      "processing_batch_1\n"
     ]
    },
    {
     "name": "stderr",
     "output_type": "stream",
     "text": [
      "Pathways: 100%|██████████| 1375/1375 [00:03<00:00, 348.31it/s]\n"
     ]
    },
    {
     "name": "stdout",
     "output_type": "stream",
     "text": [
      "Ucell_done\n",
      "Outputing_dataframe\n",
      "Filtered out 240 pathways\n",
      "1375 pathways passed QC\n",
      "The maxRank must >= 1434 (The genes number of the longest pathway)\n",
      "adata.X is csr sparse matrix\n",
      "Step1 generate rank matrix\n",
      "1 batches need to rank, with each max 100000 cells\n",
      "Processing_batch_1\n"
     ]
    },
    {
     "name": "stderr",
     "output_type": "stream",
     "text": [
      "Ranking Chunks: 100%|██████████| 10/10 [00:23<00:00,  2.40s/it]\n"
     ]
    },
    {
     "name": "stdout",
     "output_type": "stream",
     "text": [
      "Rank done\n",
      "The output rank matrix can be used to calculate UCell score on different pathways set.\n",
      "The maxRank parameter use with this rank matrix in fast_ucell_score() must <= 2000\n",
      "Subset rank matrix by overlap genes in pathways\n",
      "Rank above maxRank to 0\n",
      "step2 calculating Score\n",
      "1 batches need to score, with each max 100000 cells\n",
      "processing_batch_1\n"
     ]
    },
    {
     "name": "stderr",
     "output_type": "stream",
     "text": [
      "Pathways: 100%|██████████| 1375/1375 [00:03<00:00, 353.21it/s]\n"
     ]
    },
    {
     "name": "stdout",
     "output_type": "stream",
     "text": [
      "Ucell_done\n",
      "Outputing_dataframe\n",
      "Filtered out 240 pathways\n",
      "1375 pathways passed QC\n",
      "The maxRank must >= 1434 (The genes number of the longest pathway)\n",
      "adata.X is csr sparse matrix\n",
      "Step1 generate rank matrix\n",
      "1 batches need to rank, with each max 100000 cells\n",
      "Processing_batch_1\n"
     ]
    },
    {
     "name": "stderr",
     "output_type": "stream",
     "text": [
      "Ranking Chunks: 100%|██████████| 10/10 [00:23<00:00,  2.35s/it]\n"
     ]
    },
    {
     "name": "stdout",
     "output_type": "stream",
     "text": [
      "Rank done\n",
      "The output rank matrix can be used to calculate UCell score on different pathways set.\n",
      "The maxRank parameter use with this rank matrix in fast_ucell_score() must <= 2000\n",
      "Subset rank matrix by overlap genes in pathways\n",
      "Rank above maxRank to 0\n",
      "step2 calculating Score\n",
      "1 batches need to score, with each max 100000 cells\n",
      "processing_batch_1\n"
     ]
    },
    {
     "name": "stderr",
     "output_type": "stream",
     "text": [
      "Pathways: 100%|██████████| 1375/1375 [00:03<00:00, 425.52it/s]\n"
     ]
    },
    {
     "name": "stdout",
     "output_type": "stream",
     "text": [
      "Ucell_done\n",
      "Outputing_dataframe\n",
      "Filtered out 240 pathways\n",
      "1375 pathways passed QC\n",
      "The maxRank must >= 1434 (The genes number of the longest pathway)\n",
      "adata.X is csr sparse matrix\n",
      "Step1 generate rank matrix\n",
      "1 batches need to rank, with each max 100000 cells\n",
      "Processing_batch_1\n"
     ]
    },
    {
     "name": "stderr",
     "output_type": "stream",
     "text": [
      "Ranking Chunks: 100%|██████████| 10/10 [00:23<00:00,  2.35s/it]\n"
     ]
    },
    {
     "name": "stdout",
     "output_type": "stream",
     "text": [
      "Rank done\n",
      "The output rank matrix can be used to calculate UCell score on different pathways set.\n",
      "The maxRank parameter use with this rank matrix in fast_ucell_score() must <= 2000\n",
      "Subset rank matrix by overlap genes in pathways\n",
      "Rank above maxRank to 0\n",
      "step2 calculating Score\n",
      "1 batches need to score, with each max 100000 cells\n",
      "processing_batch_1\n"
     ]
    },
    {
     "name": "stderr",
     "output_type": "stream",
     "text": [
      "Pathways: 100%|██████████| 1375/1375 [00:03<00:00, 409.75it/s]\n"
     ]
    },
    {
     "name": "stdout",
     "output_type": "stream",
     "text": [
      "Ucell_done\n",
      "Outputing_dataframe\n",
      "Filtered out 240 pathways\n",
      "1375 pathways passed QC\n",
      "The maxRank must >= 1434 (The genes number of the longest pathway)\n",
      "adata.X is csr sparse matrix\n",
      "Step1 generate rank matrix\n",
      "1 batches need to rank, with each max 100000 cells\n",
      "Processing_batch_1\n"
     ]
    },
    {
     "name": "stderr",
     "output_type": "stream",
     "text": [
      "Ranking Chunks: 100%|██████████| 10/10 [00:23<00:00,  2.33s/it]\n"
     ]
    },
    {
     "name": "stdout",
     "output_type": "stream",
     "text": [
      "Rank done\n",
      "The output rank matrix can be used to calculate UCell score on different pathways set.\n",
      "The maxRank parameter use with this rank matrix in fast_ucell_score() must <= 2000\n",
      "Subset rank matrix by overlap genes in pathways\n",
      "Rank above maxRank to 0\n",
      "step2 calculating Score\n",
      "1 batches need to score, with each max 100000 cells\n",
      "processing_batch_1\n"
     ]
    },
    {
     "name": "stderr",
     "output_type": "stream",
     "text": [
      "Pathways: 100%|██████████| 1375/1375 [00:04<00:00, 341.14it/s]\n"
     ]
    },
    {
     "name": "stdout",
     "output_type": "stream",
     "text": [
      "Ucell_done\n",
      "Outputing_dataframe\n"
     ]
    }
   ],
   "source": [
    "#pathway_input_qc_by_overlapgene\n",
    "res = []\n",
    "for i in range(1):\n",
    "    adata = sc.pp.subsample(adata_orig, fraction=0.5, copy=True, random_state=i)\n",
    "    pathway_input = scPAFA.tl.generate_pathway_input(adata = adata, pathway_dict = pathway_dict,min_overlap_gene=6)\n",
    "    #step1_generate_rank_matrix\n",
    "    rank_matrix = scPAFA.tl.fast_ucell_rank(adata=adata,maxRank=2000,n_cores_rank=10,rank_batch_size=100000)\n",
    "    #step2_UCell_compute\n",
    "    Ucell_result =  scPAFA.tl.fast_ucell_score(cell_index = list(adata.obs.index),rankmatrix=rank_matrix,maxRank=1800,n_cores_score=10,score_batch_size = 100000,input_dict = pathway_input)\n",
    "    res.append(Ucell_result)"
   ]
  },
  {
   "cell_type": "code",
   "execution_count": 7,
   "id": "70a727fb",
   "metadata": {},
   "outputs": [
    {
     "name": "stdout",
     "output_type": "stream",
     "text": [
      "0\n",
      "1\n",
      "2\n",
      "3\n",
      "4\n",
      "5\n",
      "6\n",
      "7\n",
      "8\n",
      "9\n"
     ]
    }
   ],
   "source": [
    "from sklearn.cluster import MiniBatchKMeans\n",
    "from multiprocessing import cpu_count\n",
    "from sklearn.metrics import adjusted_mutual_info_score\n",
    "\n",
    "batch_size = 256 * cpu_count() + 1\n",
    "scores = []\n",
    "\n",
    "for i, embeddings in enumerate(res):\n",
    "        y = adata_orig.obs.loc[embeddings.index, \"cell_type\"]\n",
    "        n_clusters = y.nunique()\n",
    "        model = MiniBatchKMeans(n_clusters=n_clusters, batch_size=batch_size)\n",
    "        model.fit(embeddings)\n",
    "        preds = model.predict(embeddings)\n",
    "        scores.append(adjusted_mutual_info_score(y, preds))\n",
    "        print(i)"
   ]
  },
  {
   "cell_type": "code",
   "execution_count": 8,
   "id": "ca8c796e",
   "metadata": {},
   "outputs": [
    {
     "data": {
      "text/plain": [
       "<Axes: >"
      ]
     },
     "execution_count": 8,
     "metadata": {},
     "output_type": "execute_result"
    },
    {
     "data": {
      "image/png": "[encoded data removed]",
      "text/plain": [
       "<Figure size 640x480 with 1 Axes>"
      ]
     },
     "metadata": {},
     "output_type": "display_data"
    }
   ],
   "source": [
    "import seaborn as sns\n",
    "\n",
    "sns.violinplot(x=scores)"
   ]
  },
  {
   "cell_type": "code",
   "execution_count": 9,
   "id": "4f0ae134",
   "metadata": {},
   "outputs": [
    {
     "data": {
      "text/plain": [
       "REACTOME_2_LTR_CIRCLE_FORMATION                             0.094107\n",
       "REACTOME_ABACAVIR_TRANSPORT_AND_METABOLISM                  0.033224\n",
       "REACTOME_ABC_FAMILY_PROTEINS_MEDIATED_TRANSPORT             0.131146\n",
       "REACTOME_ABC_TRANSPORTERS_IN_LIPID_HOMEOSTASIS              0.004180\n",
       "REACTOME_ABC_TRANSPORTER_DISORDERS                          0.151964\n",
       "                                                              ...   \n",
       "REACTOME_XENOBIOTICS                                        0.002038\n",
       "REACTOME_YAP1_AND_WWTR1_TAZ_STIMULATED_GENE_EXPRESSION      0.002282\n",
       "REACTOME_ZBP1_DAI_MEDIATED_INDUCTION_OF_TYPE_I_IFNS         0.044826\n",
       "REACTOME_ZINC_INFLUX_INTO_CELLS_BY_THE_SLC39_GENE_FAMILY    0.018465\n",
       "REACTOME_ZINC_TRANSPORTERS                                  0.014841\n",
       "Length: 1375, dtype: float64"
      ]
     },
     "execution_count": 9,
     "metadata": {},
     "output_type": "execute_result"
    }
   ],
   "source": [
    "import numpy as np\n",
    "\n",
    "np.abs(embeddings).mean(axis=0)"
   ]
  },
  {
   "cell_type": "code",
   "execution_count": 10,
   "id": "f0ef2f17",
   "metadata": {},
   "outputs": [],
   "source": [
    "from scipy.stats import weightedtau\n"
   ]
  },
  {
   "cell_type": "code",
   "execution_count": 11,
   "id": "b5b35e40",
   "metadata": {},
   "outputs": [],
   "source": [
    "taus = []\n",
    "n_res = len(res)\n",
    "\n",
    "for i in range(n_res):\n",
    "    embeddings_i = res[i]\n",
    "    importances_i = np.abs(embeddings_i).mean(axis=0)\n",
    "    for j in range(i+1, n_res):\n",
    "        embeddings_j = res[j]\n",
    "        importances_j = np.abs(embeddings_j).mean(axis=0)\n",
    "        taus.append(weightedtau(importances_i, importances_j)[0])\n"
   ]
  },
  {
   "cell_type": "code",
   "execution_count": 12,
   "id": "30e4dedd",
   "metadata": {},
   "outputs": [
    {
     "data": {
      "text/plain": [
       "<Axes: >"
      ]
     },
     "execution_count": 12,
     "metadata": {},
     "output_type": "execute_result"
    },
    {
     "data": {
      "image/png": "[encoded data removed]",
      "text/plain": [
       "<Figure size 640x480 with 1 Axes>"
      ]
     },
     "metadata": {},
     "output_type": "display_data"
    }
   ],
   "source": [
    "sns.violinplot(x=taus)"
   ]
  },
  {
   "cell_type": "code",
   "execution_count": null,
   "id": "d15f7f4e",
   "metadata": {},
   "outputs": [],
   "source": []
  }
 ],
 "metadata": {
  "kernelspec": {
   "display_name": "default",
   "language": "python",
   "name": "python3"
  },
  "language_info": {
   "codemirror_mode": {
    "name": "ipython",
    "version": 3
   },
   "file_extension": ".py",
   "mimetype": "text/x-python",
   "name": "python",
   "nbconvert_exporter": "python",
   "pygments_lexer": "ipython3",
   "version": "3.11.11"
  },
  "varInspector": {
   "cols": {
    "lenName": 16,
    "lenType": 16,
    "lenVar": 40
   },
   "kernels_config": {
    "python": {
     "delete_cmd_postfix": "",
     "delete_cmd_prefix": "del ",
     "library": "var_list.py",
     "varRefreshCmd": "print(var_dic_list())"
    },
    "r": {
     "delete_cmd_postfix": ") ",
     "delete_cmd_prefix": "rm(",
     "library": "var_list.r",
     "varRefreshCmd": "cat(var_dic_list()) "
    }
   },
   "types_to_exclude": [
    "module",
    "function",
    "builtin_function_or_method",
    "instance",
    "_Feature"
   ],
   "window_display": false
  }
 },
 "nbformat": 4,
 "nbformat_minor": 5
}
