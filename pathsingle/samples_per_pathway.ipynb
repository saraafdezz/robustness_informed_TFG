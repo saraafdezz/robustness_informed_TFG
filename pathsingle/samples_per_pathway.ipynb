{
 "cells": [
  {
   "cell_type": "code",
   "execution_count": 2,
   "metadata": {},
   "outputs": [],
   "source": [
    "import pandas as pd\n",
    "import scanpy as sc"
   ]
  },
  {
   "cell_type": "code",
   "execution_count": 4,
   "metadata": {},
   "outputs": [],
   "source": [
    "# Cargar el archivo generado por calc_activity\n",
    "activity_df = pd.read_csv(\n",
    "    \"~/TFG/PathSingle/pathsingle/data/output_activity.csv\", index_col=0\n",
    ")\n",
    "# Tiene las muestras como columnas y las vías (pathways) como filas."
   ]
  },
  {
   "cell_type": "code",
   "execution_count": 5,
   "metadata": {},
   "outputs": [],
   "source": [
    "# Convertir DataFrame a AnnData\n",
    "adata_pathways = sc.AnnData(\n",
    "    activity_df.T\n",
    ")  # Transponer para que samples sean observaciones"
   ]
  },
  {
   "cell_type": "code",
   "execution_count": 6,
   "metadata": {},
   "outputs": [],
   "source": [
    "# Asignar nombres de muestras y vías\n",
    "adata_pathways.obs_names = activity_df.columns  # Nombres de muestras\n",
    "adata_pathways.var_names = activity_df.index  # Nombres de pathways"
   ]
  },
  {
   "cell_type": "code",
   "execution_count": 7,
   "metadata": {},
   "outputs": [
    {
     "name": "stdout",
     "output_type": "stream",
     "text": [
      "AnnData object with n_obs × n_vars = 314 × 700\n"
     ]
    }
   ],
   "source": [
    "# Verificar estructura\n",
    "print(adata_pathways)"
   ]
  },
  {
   "cell_type": "code",
   "execution_count": 8,
   "metadata": {},
   "outputs": [],
   "source": [
    "# Guardar\n",
    "adata_pathways.write(\"data/adata_pathways.h5ad\")"
   ]
  },
  {
   "cell_type": "code",
   "execution_count": 12,
   "metadata": {},
   "outputs": [
    {
     "name": "stdout",
     "output_type": "stream",
     "text": [
      "Index(['Adherens junction', 'African trypanosomiasis',\n",
      "       'AGE-RAGE signaling pathway in diabetic complications',\n",
      "       'Alcoholic liver disease', 'Alcoholism'],\n",
      "      dtype='object')\n",
      "Index(['AAAGCCTGGCTAAC-1', 'AAATTCGATGCACA-1', 'AACACGTGGTCTTT-1',\n",
      "       'AAGTGCACGTGCTA-1', 'ACACGAACGGAGTG-1'],\n",
      "      dtype='object')\n"
     ]
    }
   ],
   "source": [
    "print(adata_pathways.obs_names[:5])  # nombres de las primeras muestras (filas)\n",
    "print(adata_pathways.var_names[:5])  # nombres de las primeras variables (columnas)"
   ]
  },
  {
   "cell_type": "code",
   "execution_count": 13,
   "metadata": {},
   "outputs": [
    {
     "data": {
      "text/plain": [
       "array([[ 0.        ,  0.        ,  0.        ,  0.        ,  0.        ],\n",
       "       [ 0.        ,  0.        ,  0.        ,  0.        ,  0.        ],\n",
       "       [ 0.        ,  0.        ,  0.        ,  0.        ,  0.        ],\n",
       "       [ 0.00214169,  0.00226258, -0.00146915, -0.00132457,  0.00149484],\n",
       "       [-0.00488302, -0.0043038 ,  0.00457756, -0.00652507, -0.00693925]])"
      ]
     },
     "execution_count": 13,
     "metadata": {},
     "output_type": "execute_result"
    }
   ],
   "source": [
    "adata_pathways.X[:5, :5]"
   ]
  },
  {
   "cell_type": "code",
   "execution_count": 14,
   "metadata": {},
   "outputs": [
    {
     "name": "stdout",
     "output_type": "stream",
     "text": [
      "Shape: (314, 700)\n"
     ]
    }
   ],
   "source": [
    "print(f\"Shape: {adata_pathways.shape}\")  # (n_obs, n_vars)"
   ]
  },
  {
   "cell_type": "code",
   "execution_count": null,
   "metadata": {},
   "outputs": [],
   "source": []
  },
  {
   "cell_type": "code",
   "execution_count": null,
   "metadata": {},
   "outputs": [],
   "source": []
  },
  {
   "cell_type": "code",
   "execution_count": null,
   "metadata": {},
   "outputs": [],
   "source": []
  },
  {
   "cell_type": "code",
   "execution_count": null,
   "metadata": {},
   "outputs": [],
   "source": []
  }
 ],
 "metadata": {
  "kernelspec": {
   "display_name": "Python 3 (ipykernel)",
   "language": "python",
   "name": "python3"
  },
  "language_info": {
   "codemirror_mode": {
    "name": "ipython",
    "version": 3
   },
   "file_extension": ".py",
   "mimetype": "text/x-python",
   "name": "python",
   "nbconvert_exporter": "python",
   "pygments_lexer": "ipython3",
   "version": "3.10.12"
  }
 },
 "nbformat": 4,
 "nbformat_minor": 4
}
