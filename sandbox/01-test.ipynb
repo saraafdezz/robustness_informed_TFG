{
 "cells": [
  {
   "cell_type": "code",
   "execution_count": 77,
   "id": "2798dcca",
   "metadata": {},
   "outputs": [],
   "source": [
    "from pathlib import Path\n",
    "\n",
    "import glob\n",
    "import pickle\n",
    "\n",
    "\n",
    "\n",
    "import dotenv\n",
    "import matplotlib.pyplot as plt\n",
    "import numpy as np\n",
    "import pandas as pd\n",
    "import scanpy as sc\n",
    "import seaborn as sns\n",
    "import tensorflow as tf\n",
    "import argparse\n",
    "from scipy.stats import weightedtau\n",
    "from sklearn.model_selection import train_test_split\n",
    "\n",
    "from isrobust_TFG.bio import (\n",
    "    build_hipathia_renamers,\n",
    "    get_adj_matrices,\n",
    "    get_random_adj,\n",
    "    get_reactome_adj,\n",
    "    sync_gexp_adj,\n",
    "    get_importances,\n",
    "    get_activations,\n",
    "    train_val_test_split,\n",
    ")\n",
    "\n",
    "from isrobust_TFG.datasets import load_kang\n",
    "from isrobust_TFG.utils import set_all_seeds\n",
    "\n",
    "\n",
    "from multiprocessing import cpu_count\n",
    "\n",
    "from sklearn.cluster import MiniBatchKMeans\n",
    "from sklearn.metrics.cluster import adjusted_mutual_info_score"
   ]
  },
  {
   "cell_type": "code",
   "execution_count": 78,
   "id": "f317a7a9",
   "metadata": {},
   "outputs": [],
   "source": [
    "config = dotenv.dotenv_values()\n",
    "model_kind = \"ivae_random\"\n",
    "frac = 0.25\n",
    "seed_start = 0\n",
    "seed_step = 1\n",
    "seed_stop = 2\n",
    "results_path = Path(config[\"RESULTS_FOLDER\"])\n",
    "results_path.mkdir(exist_ok=True, parents=True)\n",
    "project_path = Path(dotenv.find_dotenv()).parent\n",
    "data_path = project_path.joinpath(\"data\")\n"
   ]
  },
  {
   "cell_type": "code",
   "execution_count": 79,
   "id": "d0905d32",
   "metadata": {},
   "outputs": [
    {
     "data": {
      "text/plain": [
       "PosixPath('path')"
      ]
     },
     "execution_count": 79,
     "metadata": {},
     "output_type": "execute_result"
    }
   ],
   "source": [
    "results_path"
   ]
  },
  {
   "cell_type": "code",
   "execution_count": 80,
   "id": "85df3163",
   "metadata": {},
   "outputs": [],
   "source": [
    "results_path.mkdir(exist_ok=True, parents=True)\n",
    "figs_path = results_path.joinpath(\"figs\")\n",
    "figs_path.mkdir(exist_ok=True, parents=True)\n",
    "tables_path = results_path.joinpath(\"tables\")\n",
    "tables_path.mkdir(exist_ok=True, parents=True)"
   ]
  },
  {
   "cell_type": "code",
   "execution_count": 81,
   "id": "196ec403",
   "metadata": {},
   "outputs": [
    {
     "name": "stdout",
     "output_type": "stream",
     "text": [
      "path/ivae_random-0.25\n"
     ]
    }
   ],
   "source": [
    "if(\"ivae_random\" in model_kind):\n",
    "    results_path_model = results_path.joinpath(model_kind + f\"-{frac}\")\n",
    "    results_path_model.mkdir(exist_ok=True, parents=True)\n",
    "else:\n",
    "    results_path_model = results_path.joinpath(model_kind)\n",
    "    results_path_model.mkdir(exist_ok=True, parents=True)\n",
    "print(f\"{results_path_model}\")"
   ]
  },
  {
   "cell_type": "code",
   "execution_count": 82,
   "id": "0b7e14bd",
   "metadata": {},
   "outputs": [
    {
     "name": "stderr",
     "output_type": "stream",
     "text": [
      "/home/sfernandez/TFG/robustness_informed_TFG/.pixi/envs/tools/lib/python3.11/site-packages/anndata/__init__.py:52: FutureWarning: `anndata.read` is deprecated, use `anndata.read_h5ad` instead. `ad.read` will be removed in mid 2024.\n",
      "  warnings.warn(\n",
      "/home/sfernandez/TFG/robustness_informed_TFG/isrobust_TFG/datasets.py:18: FutureWarning: The behavior of Series.replace (and DataFrame.replace) with CategoricalDtype is deprecated. In a future version, replace will only be used for cases that preserve the categories. To change the categories, use ser.cat.rename_categories instead.\n",
      "  adata.obs[\"label\"] = adata.obs[\"label\"].replace(\n"
     ]
    },
    {
     "name": "stdout",
     "output_type": "stream",
     "text": [
      "scanpy==1.9.8 anndata==0.11.3 umap==0.5.7 numpy==1.26.4 scipy==1.10.1 pandas==2.2.3 scikit-learn==1.5.2 statsmodels==0.14.4 igraph==0.10.8 pynndescent==0.5.13\n"
     ]
    }
   ],
   "source": [
    "adata = load_kang(data_folder=data_path, normalize=True, n_genes=None)\n",
    "obs = adata.obs.copy()\n",
    "x_trans = adata.to_df()\n",
    "\n",
    "tf.config.experimental.enable_op_determinism()\n",
    "\n",
    "sc.set_figure_params(dpi=300, color_map=\"inferno\")\n",
    "sc.settings.verbosity = 1\n",
    "sc.logging.print_header()\n"
   ]
  },
  {
   "cell_type": "code",
   "execution_count": 83,
   "id": "7328476d",
   "metadata": {},
   "outputs": [],
   "source": [
    "seeds = list(\n",
    "        range(\n",
    "            seed_start,\n",
    "            seed_stop + 1,\n",
    "            seed_step,\n",
    "        )\n",
    "    )\n",
    "N_ITERS = len(seeds)\n",
    "debug=False\n",
    "if debug:\n",
    "    N_EPOCHS = 2\n",
    "else:\n",
    "    N_EPOCHS = 300"
   ]
  },
  {
   "cell_type": "code",
   "execution_count": 84,
   "id": "f397305b",
   "metadata": {},
   "outputs": [],
   "source": [
    "if model_kind == \"ivae_kegg\":\n",
    "        n_encoding_layers = 3\n",
    "        circuit_adj, circuit_to_pathway_adj = get_adj_matrices(\n",
    "        gene_list=x_trans.columns.to_list()\n",
    "        )\n",
    "        circuit_renamer, pathway_renamer, circuit_to_effector = build_hipathia_renamers()\n",
    "        kegg_circuit_names = circuit_adj.rename(columns=circuit_renamer).columns\n",
    "        kegg_pathway_names = circuit_to_pathway_adj.rename(columns=pathway_renamer).columns\n",
    "        circuit_adj.head()\n",
    "        x_trans, circuit_adj = sync_gexp_adj(gexp=x_trans, adj=circuit_adj)\n",
    "        layer_ids = [1, 2, 3]\n",
    "        \n",
    "elif model_kind == \"ivae_reactome\":\n",
    "    n_encoding_layers = 2\n",
    "    reactome = get_reactome_adj()\n",
    "    reactome_pathway_names = reactome.columns\n",
    "    x_trans, reactome = sync_gexp_adj(x_trans, reactome)\n",
    "    layer_ids = [1, 2]\n",
    "\n",
    "elif \"ivae_random\" in model_kind:\n",
    "    reactome = get_reactome_adj()\n",
    "    n_encoding_layers = 2\n",
    "    n_genes = 3000 # En los otros models no se pone porque el default ya es None\n",
    "    state = np.random.get_state()\n",
    "    random_layer, random_layer_names = get_random_adj(\n",
    "    frac, shape=reactome.shape, size=reactome.size, index=reactome.index, seed=0)\n",
    "    np.random.set_state(state)\n",
    "    x_trans, random_layer = sync_gexp_adj(x_trans, random_layer)\n",
    "    layer_ids = [1, 2]\n",
    "\n",
    "else:\n",
    "    raise NotImplementedError(f\"{model_kind} not implemented yet.\")"
   ]
  },
  {
   "cell_type": "code",
   "execution_count": 85,
   "id": "e07e91d7",
   "metadata": {},
   "outputs": [
    {
     "name": "stdout",
     "output_type": "stream",
     "text": [
      "debug=False model_kind='ivae_random'\n"
     ]
    },
    {
     "data": {
      "text/html": [
       "<div>\n",
       "<style scoped>\n",
       "    .dataframe tbody tr th:only-of-type {\n",
       "        vertical-align: middle;\n",
       "    }\n",
       "\n",
       "    .dataframe tbody tr th {\n",
       "        vertical-align: top;\n",
       "    }\n",
       "\n",
       "    .dataframe thead th {\n",
       "        text-align: right;\n",
       "    }\n",
       "</style>\n",
       "<table border=\"1\" class=\"dataframe\">\n",
       "  <thead>\n",
       "    <tr style=\"text-align: right;\">\n",
       "      <th></th>\n",
       "      <th>seed</th>\n",
       "      <th>metric</th>\n",
       "      <th>split</th>\n",
       "      <th>score</th>\n",
       "      <th>model</th>\n",
       "    </tr>\n",
       "  </thead>\n",
       "  <tbody>\n",
       "    <tr>\n",
       "      <th>0</th>\n",
       "      <td>0</td>\n",
       "      <td>loss</td>\n",
       "      <td>train</td>\n",
       "      <td>47.510967</td>\n",
       "      <td>ivae_random</td>\n",
       "    </tr>\n",
       "    <tr>\n",
       "      <th>1</th>\n",
       "      <td>0</td>\n",
       "      <td>mse</td>\n",
       "      <td>train</td>\n",
       "      <td>0.003121</td>\n",
       "      <td>ivae_random</td>\n",
       "    </tr>\n",
       "    <tr>\n",
       "      <th>2</th>\n",
       "      <td>0</td>\n",
       "      <td>loss</td>\n",
       "      <td>val</td>\n",
       "      <td>47.599075</td>\n",
       "      <td>ivae_random</td>\n",
       "    </tr>\n",
       "    <tr>\n",
       "      <th>3</th>\n",
       "      <td>0</td>\n",
       "      <td>mse</td>\n",
       "      <td>val</td>\n",
       "      <td>0.003128</td>\n",
       "      <td>ivae_random</td>\n",
       "    </tr>\n",
       "    <tr>\n",
       "      <th>4</th>\n",
       "      <td>0</td>\n",
       "      <td>loss</td>\n",
       "      <td>test</td>\n",
       "      <td>47.534157</td>\n",
       "      <td>ivae_random</td>\n",
       "    </tr>\n",
       "  </tbody>\n",
       "</table>\n",
       "</div>"
      ],
      "text/plain": [
       "   seed metric  split      score        model\n",
       "0     0   loss  train  47.510967  ivae_random\n",
       "1     0    mse  train   0.003121  ivae_random\n",
       "2     0   loss    val  47.599075  ivae_random\n",
       "3     0    mse    val   0.003128  ivae_random\n",
       "4     0   loss   test  47.534157  ivae_random"
      ]
     },
     "execution_count": 85,
     "metadata": {},
     "output_type": "execute_result"
    }
   ],
   "source": [
    "print(f\"{debug=} {model_kind=}\")\n",
    "    \n",
    "    \n",
    "non_layer_names = [\"split\", \"layer\", \"seed\", \"cell_type\", \"condition\", \"model\"]\n",
    "\n",
    "\n",
    "scores_metrics = [\n",
    "    pd.read_pickle(results_path_model.joinpath(f\"metrics-seed-{seed:02d}.pkl\")) \n",
    "    for seed in seeds\n",
    "]\n",
    "scores_metrics = pd.concat(scores_metrics, axis=0, ignore_index=True)\n",
    "scores_metrics.to_pickle(results_path_model.joinpath(\"scores_metrics.pkl\"))\n",
    "scores_metrics.head()"
   ]
  },
  {
   "cell_type": "code",
   "execution_count": 86,
   "id": "308435c3",
   "metadata": {},
   "outputs": [],
   "source": [
    "scores_informed = {}\n",
    "\n",
    "for layer_id in layer_ids:\n",
    "    if results_path_model.joinpath(\n",
    "        f\"encodings_layer-{layer_id:02d}_seed-00.pkl\"\n",
    "    ).exists():\n",
    "        results_layer = [\n",
    "            pd.read_pickle(\n",
    "                results_path_model.joinpath(\n",
    "                    f\"encodings_layer-{layer_id:02d}_seed-{seed:02d}.pkl\"\n",
    "                )\n",
    "            )\n",
    "            for seed in seeds\n",
    "        ]\n",
    "    else:\n",
    "        continue\n",
    "\n",
    "    scores_informed[layer_id] = {}\n",
    "    for split in [\"train\", \"test\", \"val\"]:\n",
    "        results = [\n",
    "            x.loc[x[\"split\"] == split].drop(non_layer_names, axis=1)\n",
    "            for x in results_layer\n",
    "        ]\n",
    "        scores_informed[layer_id][split] = []\n",
    "        for seed_i in seeds:\n",
    "            for seed_j in range(seed_i + 1, N_ITERS):\n",
    "                scores_informed[layer_id][split].append(\n",
    "                    weightedtau(\n",
    "                        get_importances(data=results[seed_i], abs=True),\n",
    "                        get_importances(data=results[seed_j], abs=True),\n",
    "                    )[0]\n",
    "                )\n"
   ]
  },
  {
   "cell_type": "code",
   "execution_count": null,
   "id": "f131f3de",
   "metadata": {},
   "outputs": [],
   "source": []
  },
  {
   "cell_type": "code",
   "execution_count": 87,
   "id": "672273ec",
   "metadata": {},
   "outputs": [
    {
     "data": {
      "text/plain": [
       "PosixPath('path/ivae_random-0.25/scores_informed.pkl')"
      ]
     },
     "execution_count": 87,
     "metadata": {},
     "output_type": "execute_result"
    }
   ],
   "source": [
    "scores_informed = (\n",
    "    pd.DataFrame.from_dict(scores_informed)\n",
    "    .melt(var_name=\"layer\", value_name=\"score\", ignore_index=False)\n",
    "    .reset_index(names=[\"split\"])\n",
    "    .explode(\"score\")\n",
    ")\n",
    "scores_informed[\"score\"] = scores_informed[\"score\"].astype(\"float\")\n",
    "scores_informed[\"model\"] = model_kind\n",
    "scores_informed.to_pickle(results_path_model.joinpath(\"scores_informed.pkl\"))\n",
    "\n",
    "results_path_model.joinpath(\"scores_informed.pkl\")"
   ]
  },
  {
   "cell_type": "code",
   "execution_count": 88,
   "id": "82bbb41b",
   "metadata": {},
   "outputs": [
    {
     "data": {
      "text/html": [
       "<div>\n",
       "<style scoped>\n",
       "    .dataframe tbody tr th:only-of-type {\n",
       "        vertical-align: middle;\n",
       "    }\n",
       "\n",
       "    .dataframe tbody tr th {\n",
       "        vertical-align: top;\n",
       "    }\n",
       "\n",
       "    .dataframe thead th {\n",
       "        text-align: right;\n",
       "    }\n",
       "</style>\n",
       "<table border=\"1\" class=\"dataframe\">\n",
       "  <thead>\n",
       "    <tr style=\"text-align: right;\">\n",
       "      <th></th>\n",
       "      <th>split</th>\n",
       "      <th>layer</th>\n",
       "      <th>score</th>\n",
       "      <th>model</th>\n",
       "    </tr>\n",
       "  </thead>\n",
       "  <tbody>\n",
       "    <tr>\n",
       "      <th>0</th>\n",
       "      <td>train</td>\n",
       "      <td>1</td>\n",
       "      <td>-0.017844</td>\n",
       "      <td>ivae_random</td>\n",
       "    </tr>\n",
       "    <tr>\n",
       "      <th>0</th>\n",
       "      <td>train</td>\n",
       "      <td>1</td>\n",
       "      <td>-0.008756</td>\n",
       "      <td>ivae_random</td>\n",
       "    </tr>\n",
       "    <tr>\n",
       "      <th>0</th>\n",
       "      <td>train</td>\n",
       "      <td>1</td>\n",
       "      <td>0.009547</td>\n",
       "      <td>ivae_random</td>\n",
       "    </tr>\n",
       "    <tr>\n",
       "      <th>1</th>\n",
       "      <td>test</td>\n",
       "      <td>1</td>\n",
       "      <td>-0.017664</td>\n",
       "      <td>ivae_random</td>\n",
       "    </tr>\n",
       "    <tr>\n",
       "      <th>1</th>\n",
       "      <td>test</td>\n",
       "      <td>1</td>\n",
       "      <td>-0.001160</td>\n",
       "      <td>ivae_random</td>\n",
       "    </tr>\n",
       "  </tbody>\n",
       "</table>\n",
       "</div>"
      ],
      "text/plain": [
       "   split  layer     score        model\n",
       "0  train      1 -0.017844  ivae_random\n",
       "0  train      1 -0.008756  ivae_random\n",
       "0  train      1  0.009547  ivae_random\n",
       "1   test      1 -0.017664  ivae_random\n",
       "1   test      1 -0.001160  ivae_random"
      ]
     },
     "execution_count": 88,
     "metadata": {},
     "output_type": "execute_result"
    }
   ],
   "source": [
    "scores_informed.head()"
   ]
  },
  {
   "cell_type": "code",
   "execution_count": 89,
   "id": "638e070b",
   "metadata": {},
   "outputs": [],
   "source": [
    "clust_scores = {}\n",
    "\n",
    "for layer_id in layer_ids:\n",
    "    if results_path_model.joinpath(\n",
    "        f\"encodings_layer-{layer_id:02d}_seed-00.pkl\"\n",
    "    ).exists():\n",
    "        results_layer = [\n",
    "            pd.read_pickle(\n",
    "                results_path_model.joinpath(\n",
    "                    f\"encodings_layer-{layer_id:02d}_seed-{seed:02d}.pkl\"\n",
    "                )\n",
    "            )\n",
    "            for seed in range(N_ITERS)\n",
    "        ]\n",
    "    else:\n",
    "        continue\n",
    "\n",
    "    train_embeddings_lst = [\n",
    "        x.loc[(x[\"split\"] == \"train\") & (x[\"condition\"] == \"control\")]\n",
    "        for x in results_layer\n",
    "    ]\n",
    "    val_embeddings_lst = [\n",
    "        x.loc[(x[\"split\"] == \"val\") & (x[\"condition\"] == \"control\")]\n",
    "        for x in results_layer\n",
    "    ]\n",
    "    test_embeddings_lst = [\n",
    "        x.loc[(x[\"split\"] == \"test\") & (x[\"condition\"] == \"control\")]\n",
    "        for x in results_layer\n",
    "    ]\n",
    "\n",
    "    clust_scores[layer_id] = {}\n",
    "    clust_scores[layer_id][\"train\"] = []\n",
    "    clust_scores[layer_id][\"val\"] = []\n",
    "    clust_scores[layer_id][\"test\"] = []\n",
    "\n",
    "    for seed in range(N_ITERS):\n",
    "        y_train = train_embeddings_lst[seed][\"cell_type\"]\n",
    "        y_val = val_embeddings_lst[seed][\"cell_type\"]\n",
    "        y_test = test_embeddings_lst[seed][\"cell_type\"]\n",
    "\n",
    "        train_embeddings = train_embeddings_lst[seed].drop(non_layer_names, axis=1)\n",
    "        val_embeddings = val_embeddings_lst[seed].drop(non_layer_names, axis=1)\n",
    "        test_embeddings = test_embeddings_lst[seed].drop(non_layer_names, axis=1)\n",
    "\n",
    "        model = MiniBatchKMeans(n_clusters=y_train.nunique(), batch_size=256 * cpu_count() + 1)\n",
    "        model.fit(train_embeddings)\n",
    "        clust_scores[layer_id][\"train\"].append(\n",
    "            adjusted_mutual_info_score(y_train, model.labels_)\n",
    "        )\n",
    "        clust_scores[layer_id][\"val\"].append(\n",
    "            adjusted_mutual_info_score(y_val, model.predict(val_embeddings))\n",
    "        )\n",
    "        clust_scores[layer_id][\"test\"].append(\n",
    "           adjusted_mutual_info_score(y_test, model.predict(test_embeddings))\n",
    "        )"
   ]
  },
  {
   "cell_type": "code",
   "execution_count": 90,
   "id": "74cc3c09",
   "metadata": {},
   "outputs": [],
   "source": [
    "results_path_model.joinpath(\"scores_clustering.pkl\")\n",
    "\n",
    "clust_scores = (\n",
    "    pd.DataFrame.from_dict(clust_scores)\n",
    "    .melt(var_name=\"layer\", value_name=\"score\", ignore_index=False)\n",
    "    .reset_index(names=[\"split\"])\n",
    "    .explode(\"score\")\n",
    ")\n",
    "clust_scores[\"score\"] = clust_scores[\"score\"].astype(\"float\")\n",
    "clust_scores[\"model\"] = model_kind\n",
    "clust_scores.to_pickle(results_path_model.joinpath(\"scores_clustering.pkl\"))"
   ]
  },
  {
   "cell_type": "code",
   "execution_count": 91,
   "id": "d05e9f37",
   "metadata": {},
   "outputs": [
    {
     "data": {
      "text/html": [
       "<div>\n",
       "<style scoped>\n",
       "    .dataframe tbody tr th:only-of-type {\n",
       "        vertical-align: middle;\n",
       "    }\n",
       "\n",
       "    .dataframe tbody tr th {\n",
       "        vertical-align: top;\n",
       "    }\n",
       "\n",
       "    .dataframe thead th {\n",
       "        text-align: right;\n",
       "    }\n",
       "</style>\n",
       "<table border=\"1\" class=\"dataframe\">\n",
       "  <thead>\n",
       "    <tr style=\"text-align: right;\">\n",
       "      <th></th>\n",
       "      <th>split</th>\n",
       "      <th>layer</th>\n",
       "      <th>score</th>\n",
       "      <th>model</th>\n",
       "    </tr>\n",
       "  </thead>\n",
       "  <tbody>\n",
       "    <tr>\n",
       "      <th>0</th>\n",
       "      <td>train</td>\n",
       "      <td>1</td>\n",
       "      <td>0.665108</td>\n",
       "      <td>ivae_random</td>\n",
       "    </tr>\n",
       "    <tr>\n",
       "      <th>0</th>\n",
       "      <td>train</td>\n",
       "      <td>1</td>\n",
       "      <td>0.668041</td>\n",
       "      <td>ivae_random</td>\n",
       "    </tr>\n",
       "    <tr>\n",
       "      <th>0</th>\n",
       "      <td>train</td>\n",
       "      <td>1</td>\n",
       "      <td>0.617996</td>\n",
       "      <td>ivae_random</td>\n",
       "    </tr>\n",
       "    <tr>\n",
       "      <th>1</th>\n",
       "      <td>val</td>\n",
       "      <td>1</td>\n",
       "      <td>0.665219</td>\n",
       "      <td>ivae_random</td>\n",
       "    </tr>\n",
       "    <tr>\n",
       "      <th>1</th>\n",
       "      <td>val</td>\n",
       "      <td>1</td>\n",
       "      <td>0.678493</td>\n",
       "      <td>ivae_random</td>\n",
       "    </tr>\n",
       "  </tbody>\n",
       "</table>\n",
       "</div>"
      ],
      "text/plain": [
       "   split  layer     score        model\n",
       "0  train      1  0.665108  ivae_random\n",
       "0  train      1  0.668041  ivae_random\n",
       "0  train      1  0.617996  ivae_random\n",
       "1    val      1  0.665219  ivae_random\n",
       "1    val      1  0.678493  ivae_random"
      ]
     },
     "execution_count": 91,
     "metadata": {},
     "output_type": "execute_result"
    }
   ],
   "source": [
    "clust_scores.head()"
   ]
  },
  {
   "cell_type": "code",
   "execution_count": null,
   "id": "20e3fbb9",
   "metadata": {},
   "outputs": [],
   "source": []
  },
  {
   "cell_type": "code",
   "execution_count": null,
   "id": "11b7ecf8",
   "metadata": {},
   "outputs": [],
   "source": []
  },
  {
   "cell_type": "code",
   "execution_count": null,
   "id": "b8e9f63b",
   "metadata": {},
   "outputs": [],
   "source": []
  },
  {
   "cell_type": "code",
   "execution_count": null,
   "id": "d43f7f04",
   "metadata": {},
   "outputs": [],
   "source": []
  },
  {
   "cell_type": "code",
   "execution_count": null,
   "id": "c322d501",
   "metadata": {},
   "outputs": [],
   "source": []
  },
  {
   "cell_type": "code",
   "execution_count": null,
   "id": "29f630ef",
   "metadata": {},
   "outputs": [],
   "source": []
  }
 ],
 "metadata": {
  "kernelspec": {
   "display_name": "Python 3 (ipykernel)",
   "language": "python",
   "name": "python3"
  },
  "language_info": {
   "codemirror_mode": {
    "name": "ipython",
    "version": 3
   },
   "file_extension": ".py",
   "mimetype": "text/x-python",
   "name": "python",
   "nbconvert_exporter": "python",
   "pygments_lexer": "ipython3",
   "version": "3.11.11"
  }
 },
 "nbformat": 4,
 "nbformat_minor": 5
}
